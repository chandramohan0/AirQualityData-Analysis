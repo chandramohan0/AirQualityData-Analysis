{
  "nbformat": 4,
  "nbformat_minor": 0,
  "metadata": {
    "kernelspec": {
      "display_name": "Python 3",
      "language": "python",
      "name": "python3"
    },
    "language_info": {
      "codemirror_mode": {
        "name": "ipython",
        "version": 3
      },
      "file_extension": ".py",
      "mimetype": "text/x-python",
      "name": "python",
      "nbconvert_exporter": "python",
      "pygments_lexer": "ipython3",
      "version": "3.8.5"
    },
    "colab": {
      "name": "zerotopandas-course-project.ipynb",
      "provenance": [],
      "include_colab_link": true
    }
  },
  "cells": [
    {
      "cell_type": "markdown",
      "metadata": {
        "id": "view-in-github",
        "colab_type": "text"
      },
      "source": [
        "<a href=\"https://colab.research.google.com/github/chandramohan0/PythonZeroToPandasProject/blob/main/zerotopandas_course_project.ipynb\" target=\"_parent\"><img src=\"https://colab.research.google.com/assets/colab-badge.svg\" alt=\"Open In Colab\"/></a>"
      ]
    },
    {
      "cell_type": "code",
      "metadata": {
        "colab": {
          "base_uri": "https://localhost:8080/"
        },
        "id": "l7ARyyZyqLwk",
        "outputId": "c27a2d38-c03f-4234-e826-82023dd34489"
      },
      "source": [
        "# Jovian Commit Essentials\n",
        "# Please retain and execute this cell without modifying the contents for `jovian.commit` to work\n",
        "!pip install jovian --upgrade -q\n",
        "import jovian\n",
        "jovian.utils.colab.set_colab_file_id('1CtpsWZCnRDqv9j2UO0ulog2XG6EIfQff')"
      ],
      "execution_count": 1,
      "outputs": [
        {
          "output_type": "stream",
          "text": [
            "\u001b[?25l\r\u001b[K     |█████                           | 10kB 14.7MB/s eta 0:00:01\r\u001b[K     |█████████▉                      | 20kB 19.0MB/s eta 0:00:01\r\u001b[K     |██████████████▊                 | 30kB 14.5MB/s eta 0:00:01\r\u001b[K     |███████████████████▊            | 40kB 10.3MB/s eta 0:00:01\r\u001b[K     |████████████████████████▋       | 51kB 5.1MB/s eta 0:00:01\r\u001b[K     |█████████████████████████████▌  | 61kB 5.9MB/s eta 0:00:01\r\u001b[K     |████████████████████████████████| 71kB 3.4MB/s \n",
            "\u001b[?25h  Building wheel for uuid (setup.py) ... \u001b[?25l\u001b[?25hdone\n"
          ],
          "name": "stdout"
        }
      ]
    },
    {
      "cell_type": "markdown",
      "metadata": {
        "id": "QAvj9tmLqLwx"
      },
      "source": [
        "# Air Quality Data In India\n",
        "\n",
        "### This project is related to analysis of air quality index of various cities of India. The dataset is downloaded from 'https://www.kaggle.com/rohanrao/air-quality-data-in-india' and the data will be analyzed with the help of Numpy, Pandas, Matplotlib,Seaborn, Jovian etc. libraries.  "
      ]
    },
    {
      "cell_type": "code",
      "metadata": {
        "id": "r9ZLu8vrqLwy"
      },
      "source": [
        "!pip install jovian opendatasets --upgrade --quiet"
      ],
      "execution_count": 2,
      "outputs": []
    },
    {
      "cell_type": "markdown",
      "metadata": {
        "id": "qomitxeUqLwz"
      },
      "source": [
        "Let's begin by downloading the data, and listing the files within the dataset."
      ]
    },
    {
      "cell_type": "code",
      "metadata": {
        "id": "x8QAXC_vqLwz"
      },
      "source": [
        "# Change this\n",
        "dataset_url = 'https://www.kaggle.com/rohanrao/air-quality-data-in-india' "
      ],
      "execution_count": 3,
      "outputs": []
    },
    {
      "cell_type": "code",
      "metadata": {
        "colab": {
          "base_uri": "https://localhost:8080/"
        },
        "id": "4-W_JRIuqLw0",
        "outputId": "1aab93d3-6648-443b-ac43-b703e7068b0f"
      },
      "source": [
        "import opendatasets as od\n",
        "od.download(dataset_url)"
      ],
      "execution_count": 6,
      "outputs": [
        {
          "output_type": "stream",
          "text": [
            "Please provide your Kaggle credentials to download this dataset. Learn more: http://bit.ly/kaggle-creds\n",
            "Your Kaggle username: chandramohan01\n",
            "Your Kaggle Key: ··········\n"
          ],
          "name": "stdout"
        },
        {
          "output_type": "stream",
          "text": [
            "  7%|▋         | 5.00M/72.9M [00:00<00:01, 39.4MB/s]"
          ],
          "name": "stderr"
        },
        {
          "output_type": "stream",
          "text": [
            "Downloading air-quality-data-in-india.zip to ./air-quality-data-in-india\n"
          ],
          "name": "stdout"
        },
        {
          "output_type": "stream",
          "text": [
            "100%|██████████| 72.9M/72.9M [00:00<00:00, 128MB/s] \n"
          ],
          "name": "stderr"
        },
        {
          "output_type": "stream",
          "text": [
            "\n"
          ],
          "name": "stdout"
        }
      ]
    },
    {
      "cell_type": "markdown",
      "metadata": {
        "id": "HrxnYVG9qLw1"
      },
      "source": [
        "The dataset has been downloaded and extracted."
      ]
    },
    {
      "cell_type": "code",
      "metadata": {
        "id": "n1brpg_PqLw2"
      },
      "source": [
        "# Change this\n",
        "data_dir = './air-quality-data-in-india'"
      ],
      "execution_count": 10,
      "outputs": []
    },
    {
      "cell_type": "code",
      "metadata": {
        "colab": {
          "base_uri": "https://localhost:8080/"
        },
        "id": "W6Pef_s3qLw2",
        "outputId": "54cffde2-f6da-486f-960b-4f2e0a3aa02a"
      },
      "source": [
        "import os\n",
        "os.listdir(data_dir)"
      ],
      "execution_count": 11,
      "outputs": [
        {
          "output_type": "execute_result",
          "data": {
            "text/plain": [
              "['city_hour.csv',\n",
              " 'stations.csv',\n",
              " 'station_hour.csv',\n",
              " 'station_day.csv',\n",
              " 'city_day.csv']"
            ]
          },
          "metadata": {
            "tags": []
          },
          "execution_count": 11
        }
      ]
    },
    {
      "cell_type": "markdown",
      "metadata": {
        "id": "FvjIsn9ZqLw3"
      },
      "source": [
        "Let us save and upload our work to Jovian before continuing."
      ]
    },
    {
      "cell_type": "code",
      "metadata": {
        "id": "JYQftwY6qLw3"
      },
      "source": [
        "project_name = \"air-quality-data-in-india\" # change this (use lowercase letters and hyphens only)"
      ],
      "execution_count": 12,
      "outputs": []
    },
    {
      "cell_type": "code",
      "metadata": {
        "id": "Gq-fYdCUqLw3"
      },
      "source": [
        "!pip install jovian --upgrade -q"
      ],
      "execution_count": 13,
      "outputs": []
    },
    {
      "cell_type": "code",
      "metadata": {
        "id": "jzeWdwDkqLw4"
      },
      "source": [
        "import jovian"
      ],
      "execution_count": 14,
      "outputs": []
    },
    {
      "cell_type": "code",
      "metadata": {
        "colab": {
          "base_uri": "https://localhost:8080/",
          "height": 136
        },
        "id": "rMNLS9IsqLw4",
        "outputId": "d4b84e91-d58d-4390-abe8-0eeb03bc3d61"
      },
      "source": [
        "jovian.commit(project=project_name)"
      ],
      "execution_count": 15,
      "outputs": [
        {
          "output_type": "stream",
          "text": [
            "[jovian] Detected Colab notebook...\u001b[0m\n",
            "[jovian] Please enter your API key ( from https://jovian.ai/ ):\u001b[0m\n",
            "API KEY: ··········\n",
            "[jovian] Uploading colab notebook to Jovian...\u001b[0m\n",
            "[jovian] Capturing environment..\u001b[0m\n",
            "[jovian] Committed successfully! https://jovian.ai/thechandramohan01/air-quality-data-in-india\u001b[0m\n"
          ],
          "name": "stdout"
        },
        {
          "output_type": "execute_result",
          "data": {
            "application/vnd.google.colaboratory.intrinsic+json": {
              "type": "string"
            },
            "text/plain": [
              "'https://jovian.ai/thechandramohan01/air-quality-data-in-india'"
            ]
          },
          "metadata": {
            "tags": []
          },
          "execution_count": 15
        }
      ]
    },
    {
      "cell_type": "markdown",
      "metadata": {
        "id": "juWLiNeXqLw4"
      },
      "source": [
        "# Analysis of Air Quality Data  in India\n",
        "\n",
        "#### This dataset is related to the air pollution in INDIA. You can the dataset from Air Pollution Dataset. Here I am going to analyse the pollution in different of INDIA. I have learnt Data analytics using python from jovian.ml\n",
        "\n"
      ]
    },
    {
      "cell_type": "markdown",
      "metadata": {
        "id": "l4mP-vzQqLw5"
      },
      "source": [
        "## Importing the required libraries"
      ]
    },
    {
      "cell_type": "code",
      "metadata": {
        "id": "e84w5uMEqLw5"
      },
      "source": [
        "import numpy as np\n",
        "import pandas as pd\n",
        "import matplotlib.pyplot as plt\n",
        "import seaborn as sns\n",
        "import jovian\n",
        "%matplotlib inline"
      ],
      "execution_count": 16,
      "outputs": []
    },
    {
      "cell_type": "markdown",
      "metadata": {
        "id": "VX9sMffrqLw6"
      },
      "source": [
        "# <a id='aqi'>1. What is AQI?</a>\n",
        "<img src='https://media.giphy.com/media/b5xDLakZRxJ6M/giphy.gif' width=500px height=300px>\n",
        "\n",
        "Think of the AQI as a yardstick that runs from 0 to 500. The higher the AQI value, the greater the level of air pollution and the greater the health concern. For example, an AQI value of 50 or below represents good air quality, while an AQI value over 300 represents hazardous air quality.\n",
        "\n",
        "For each pollutant an AQI value of 100 generally corresponds to an ambient air concentration that equals the level of the short-term national ambient air quality standard for protection of public health. AQI values at or below 100 are generally thought of as satisfactory. When AQI values are above 100, air quality is unhealthy: at first for certain sensitive groups of people, then for everyone as AQI values get higher.\n",
        "\n",
        "The AQI is divided into six categories. Each category corresponds to a different level of health concern. Each category also has a specific color. The color makes it easy for people to quickly determine whether air quality is reaching unhealthy levels in their communities."
      ]
    },
    {
      "cell_type": "markdown",
      "metadata": {
        "id": "cj38_CaMqLw9"
      },
      "source": [
        "### Loading the Dataset\n",
        "\n",
        "###### Here we load the dataset using the pandas helper function (pd.read_csv('filename.csv')) ,here the filename is in the same directory so need not mention the path explicitly"
      ]
    },
    {
      "cell_type": "code",
      "metadata": {
        "colab": {
          "base_uri": "https://localhost:8080/",
          "height": 402
        },
        "id": "JXK187rHqLw-",
        "outputId": "e38008bf-1e7d-45ec-fd47-3480dd3beb12"
      },
      "source": [
        "air_pollution_df = pd.read_csv('./air-quality-data-in-india/city_day.csv')\n",
        "air_pollution_df"
      ],
      "execution_count": 17,
      "outputs": [
        {
          "output_type": "execute_result",
          "data": {
            "text/html": [
              "<div>\n",
              "<style scoped>\n",
              "    .dataframe tbody tr th:only-of-type {\n",
              "        vertical-align: middle;\n",
              "    }\n",
              "\n",
              "    .dataframe tbody tr th {\n",
              "        vertical-align: top;\n",
              "    }\n",
              "\n",
              "    .dataframe thead th {\n",
              "        text-align: right;\n",
              "    }\n",
              "</style>\n",
              "<table border=\"1\" class=\"dataframe\">\n",
              "  <thead>\n",
              "    <tr style=\"text-align: right;\">\n",
              "      <th></th>\n",
              "      <th>City</th>\n",
              "      <th>Date</th>\n",
              "      <th>PM2.5</th>\n",
              "      <th>PM10</th>\n",
              "      <th>NO</th>\n",
              "      <th>NO2</th>\n",
              "      <th>NOx</th>\n",
              "      <th>NH3</th>\n",
              "      <th>CO</th>\n",
              "      <th>SO2</th>\n",
              "      <th>O3</th>\n",
              "      <th>Benzene</th>\n",
              "      <th>Toluene</th>\n",
              "      <th>Xylene</th>\n",
              "      <th>AQI</th>\n",
              "      <th>AQI_Bucket</th>\n",
              "    </tr>\n",
              "  </thead>\n",
              "  <tbody>\n",
              "    <tr>\n",
              "      <th>0</th>\n",
              "      <td>Ahmedabad</td>\n",
              "      <td>2015-01-01</td>\n",
              "      <td>NaN</td>\n",
              "      <td>NaN</td>\n",
              "      <td>0.92</td>\n",
              "      <td>18.22</td>\n",
              "      <td>17.15</td>\n",
              "      <td>NaN</td>\n",
              "      <td>0.92</td>\n",
              "      <td>27.64</td>\n",
              "      <td>133.36</td>\n",
              "      <td>0.00</td>\n",
              "      <td>0.02</td>\n",
              "      <td>0.00</td>\n",
              "      <td>NaN</td>\n",
              "      <td>NaN</td>\n",
              "    </tr>\n",
              "    <tr>\n",
              "      <th>1</th>\n",
              "      <td>Ahmedabad</td>\n",
              "      <td>2015-01-02</td>\n",
              "      <td>NaN</td>\n",
              "      <td>NaN</td>\n",
              "      <td>0.97</td>\n",
              "      <td>15.69</td>\n",
              "      <td>16.46</td>\n",
              "      <td>NaN</td>\n",
              "      <td>0.97</td>\n",
              "      <td>24.55</td>\n",
              "      <td>34.06</td>\n",
              "      <td>3.68</td>\n",
              "      <td>5.50</td>\n",
              "      <td>3.77</td>\n",
              "      <td>NaN</td>\n",
              "      <td>NaN</td>\n",
              "    </tr>\n",
              "    <tr>\n",
              "      <th>2</th>\n",
              "      <td>Ahmedabad</td>\n",
              "      <td>2015-01-03</td>\n",
              "      <td>NaN</td>\n",
              "      <td>NaN</td>\n",
              "      <td>17.40</td>\n",
              "      <td>19.30</td>\n",
              "      <td>29.70</td>\n",
              "      <td>NaN</td>\n",
              "      <td>17.40</td>\n",
              "      <td>29.07</td>\n",
              "      <td>30.70</td>\n",
              "      <td>6.80</td>\n",
              "      <td>16.40</td>\n",
              "      <td>2.25</td>\n",
              "      <td>NaN</td>\n",
              "      <td>NaN</td>\n",
              "    </tr>\n",
              "    <tr>\n",
              "      <th>3</th>\n",
              "      <td>Ahmedabad</td>\n",
              "      <td>2015-01-04</td>\n",
              "      <td>NaN</td>\n",
              "      <td>NaN</td>\n",
              "      <td>1.70</td>\n",
              "      <td>18.48</td>\n",
              "      <td>17.97</td>\n",
              "      <td>NaN</td>\n",
              "      <td>1.70</td>\n",
              "      <td>18.59</td>\n",
              "      <td>36.08</td>\n",
              "      <td>4.43</td>\n",
              "      <td>10.14</td>\n",
              "      <td>1.00</td>\n",
              "      <td>NaN</td>\n",
              "      <td>NaN</td>\n",
              "    </tr>\n",
              "    <tr>\n",
              "      <th>4</th>\n",
              "      <td>Ahmedabad</td>\n",
              "      <td>2015-01-05</td>\n",
              "      <td>NaN</td>\n",
              "      <td>NaN</td>\n",
              "      <td>22.10</td>\n",
              "      <td>21.42</td>\n",
              "      <td>37.76</td>\n",
              "      <td>NaN</td>\n",
              "      <td>22.10</td>\n",
              "      <td>39.33</td>\n",
              "      <td>39.31</td>\n",
              "      <td>7.01</td>\n",
              "      <td>18.89</td>\n",
              "      <td>2.78</td>\n",
              "      <td>NaN</td>\n",
              "      <td>NaN</td>\n",
              "    </tr>\n",
              "    <tr>\n",
              "      <th>...</th>\n",
              "      <td>...</td>\n",
              "      <td>...</td>\n",
              "      <td>...</td>\n",
              "      <td>...</td>\n",
              "      <td>...</td>\n",
              "      <td>...</td>\n",
              "      <td>...</td>\n",
              "      <td>...</td>\n",
              "      <td>...</td>\n",
              "      <td>...</td>\n",
              "      <td>...</td>\n",
              "      <td>...</td>\n",
              "      <td>...</td>\n",
              "      <td>...</td>\n",
              "      <td>...</td>\n",
              "      <td>...</td>\n",
              "    </tr>\n",
              "    <tr>\n",
              "      <th>29526</th>\n",
              "      <td>Visakhapatnam</td>\n",
              "      <td>2020-06-27</td>\n",
              "      <td>15.02</td>\n",
              "      <td>50.94</td>\n",
              "      <td>7.68</td>\n",
              "      <td>25.06</td>\n",
              "      <td>19.54</td>\n",
              "      <td>12.47</td>\n",
              "      <td>0.47</td>\n",
              "      <td>8.55</td>\n",
              "      <td>23.30</td>\n",
              "      <td>2.24</td>\n",
              "      <td>12.07</td>\n",
              "      <td>0.73</td>\n",
              "      <td>41.0</td>\n",
              "      <td>Good</td>\n",
              "    </tr>\n",
              "    <tr>\n",
              "      <th>29527</th>\n",
              "      <td>Visakhapatnam</td>\n",
              "      <td>2020-06-28</td>\n",
              "      <td>24.38</td>\n",
              "      <td>74.09</td>\n",
              "      <td>3.42</td>\n",
              "      <td>26.06</td>\n",
              "      <td>16.53</td>\n",
              "      <td>11.99</td>\n",
              "      <td>0.52</td>\n",
              "      <td>12.72</td>\n",
              "      <td>30.14</td>\n",
              "      <td>0.74</td>\n",
              "      <td>2.21</td>\n",
              "      <td>0.38</td>\n",
              "      <td>70.0</td>\n",
              "      <td>Satisfactory</td>\n",
              "    </tr>\n",
              "    <tr>\n",
              "      <th>29528</th>\n",
              "      <td>Visakhapatnam</td>\n",
              "      <td>2020-06-29</td>\n",
              "      <td>22.91</td>\n",
              "      <td>65.73</td>\n",
              "      <td>3.45</td>\n",
              "      <td>29.53</td>\n",
              "      <td>18.33</td>\n",
              "      <td>10.71</td>\n",
              "      <td>0.48</td>\n",
              "      <td>8.42</td>\n",
              "      <td>30.96</td>\n",
              "      <td>0.01</td>\n",
              "      <td>0.01</td>\n",
              "      <td>0.00</td>\n",
              "      <td>68.0</td>\n",
              "      <td>Satisfactory</td>\n",
              "    </tr>\n",
              "    <tr>\n",
              "      <th>29529</th>\n",
              "      <td>Visakhapatnam</td>\n",
              "      <td>2020-06-30</td>\n",
              "      <td>16.64</td>\n",
              "      <td>49.97</td>\n",
              "      <td>4.05</td>\n",
              "      <td>29.26</td>\n",
              "      <td>18.80</td>\n",
              "      <td>10.03</td>\n",
              "      <td>0.52</td>\n",
              "      <td>9.84</td>\n",
              "      <td>28.30</td>\n",
              "      <td>0.00</td>\n",
              "      <td>0.00</td>\n",
              "      <td>0.00</td>\n",
              "      <td>54.0</td>\n",
              "      <td>Satisfactory</td>\n",
              "    </tr>\n",
              "    <tr>\n",
              "      <th>29530</th>\n",
              "      <td>Visakhapatnam</td>\n",
              "      <td>2020-07-01</td>\n",
              "      <td>15.00</td>\n",
              "      <td>66.00</td>\n",
              "      <td>0.40</td>\n",
              "      <td>26.85</td>\n",
              "      <td>14.05</td>\n",
              "      <td>5.20</td>\n",
              "      <td>0.59</td>\n",
              "      <td>2.10</td>\n",
              "      <td>17.05</td>\n",
              "      <td>NaN</td>\n",
              "      <td>NaN</td>\n",
              "      <td>NaN</td>\n",
              "      <td>50.0</td>\n",
              "      <td>Good</td>\n",
              "    </tr>\n",
              "  </tbody>\n",
              "</table>\n",
              "<p>29531 rows × 16 columns</p>\n",
              "</div>"
            ],
            "text/plain": [
              "                City        Date  PM2.5  ...  Xylene   AQI    AQI_Bucket\n",
              "0          Ahmedabad  2015-01-01    NaN  ...    0.00   NaN           NaN\n",
              "1          Ahmedabad  2015-01-02    NaN  ...    3.77   NaN           NaN\n",
              "2          Ahmedabad  2015-01-03    NaN  ...    2.25   NaN           NaN\n",
              "3          Ahmedabad  2015-01-04    NaN  ...    1.00   NaN           NaN\n",
              "4          Ahmedabad  2015-01-05    NaN  ...    2.78   NaN           NaN\n",
              "...              ...         ...    ...  ...     ...   ...           ...\n",
              "29526  Visakhapatnam  2020-06-27  15.02  ...    0.73  41.0          Good\n",
              "29527  Visakhapatnam  2020-06-28  24.38  ...    0.38  70.0  Satisfactory\n",
              "29528  Visakhapatnam  2020-06-29  22.91  ...    0.00  68.0  Satisfactory\n",
              "29529  Visakhapatnam  2020-06-30  16.64  ...    0.00  54.0  Satisfactory\n",
              "29530  Visakhapatnam  2020-07-01  15.00  ...     NaN  50.0          Good\n",
              "\n",
              "[29531 rows x 16 columns]"
            ]
          },
          "metadata": {
            "tags": []
          },
          "execution_count": 17
        }
      ]
    },
    {
      "cell_type": "markdown",
      "metadata": {
        "id": "HdnyVrpWqLw_"
      },
      "source": [
        "### Basic information about the dataset\n",
        "\n",
        "##### It returns the name of all the columns in the dataset along with the Dtype(Data type). Here we can see that the type of the date is an object, we will convert that to an Date type in further cells."
      ]
    },
    {
      "cell_type": "code",
      "metadata": {
        "colab": {
          "base_uri": "https://localhost:8080/"
        },
        "id": "UjLosVQHqLw_",
        "outputId": "ddf68730-0589-408b-c929-f3253c783b3b"
      },
      "source": [
        "air_pollution_df.info()"
      ],
      "execution_count": 18,
      "outputs": [
        {
          "output_type": "stream",
          "text": [
            "<class 'pandas.core.frame.DataFrame'>\n",
            "RangeIndex: 29531 entries, 0 to 29530\n",
            "Data columns (total 16 columns):\n",
            " #   Column      Non-Null Count  Dtype  \n",
            "---  ------      --------------  -----  \n",
            " 0   City        29531 non-null  object \n",
            " 1   Date        29531 non-null  object \n",
            " 2   PM2.5       24933 non-null  float64\n",
            " 3   PM10        18391 non-null  float64\n",
            " 4   NO          25949 non-null  float64\n",
            " 5   NO2         25946 non-null  float64\n",
            " 6   NOx         25346 non-null  float64\n",
            " 7   NH3         19203 non-null  float64\n",
            " 8   CO          27472 non-null  float64\n",
            " 9   SO2         25677 non-null  float64\n",
            " 10  O3          25509 non-null  float64\n",
            " 11  Benzene     23908 non-null  float64\n",
            " 12  Toluene     21490 non-null  float64\n",
            " 13  Xylene      11422 non-null  float64\n",
            " 14  AQI         24850 non-null  float64\n",
            " 15  AQI_Bucket  24850 non-null  object \n",
            "dtypes: float64(13), object(3)\n",
            "memory usage: 3.6+ MB\n"
          ],
          "name": "stdout"
        }
      ]
    },
    {
      "cell_type": "markdown",
      "metadata": {
        "id": "0YReN23KqLxA"
      },
      "source": [
        "### Describing the dataset\n",
        "\n",
        "##### Here we are using the describe helper function which gives the basic idea of the dataset."
      ]
    },
    {
      "cell_type": "code",
      "metadata": {
        "colab": {
          "base_uri": "https://localhost:8080/",
          "height": 284
        },
        "id": "fbL11m0rqLxC",
        "outputId": "12d202eb-68d2-456c-d18f-92fd46ff9254"
      },
      "source": [
        "air_pollution_df.describe()"
      ],
      "execution_count": 19,
      "outputs": [
        {
          "output_type": "execute_result",
          "data": {
            "text/html": [
              "<div>\n",
              "<style scoped>\n",
              "    .dataframe tbody tr th:only-of-type {\n",
              "        vertical-align: middle;\n",
              "    }\n",
              "\n",
              "    .dataframe tbody tr th {\n",
              "        vertical-align: top;\n",
              "    }\n",
              "\n",
              "    .dataframe thead th {\n",
              "        text-align: right;\n",
              "    }\n",
              "</style>\n",
              "<table border=\"1\" class=\"dataframe\">\n",
              "  <thead>\n",
              "    <tr style=\"text-align: right;\">\n",
              "      <th></th>\n",
              "      <th>PM2.5</th>\n",
              "      <th>PM10</th>\n",
              "      <th>NO</th>\n",
              "      <th>NO2</th>\n",
              "      <th>NOx</th>\n",
              "      <th>NH3</th>\n",
              "      <th>CO</th>\n",
              "      <th>SO2</th>\n",
              "      <th>O3</th>\n",
              "      <th>Benzene</th>\n",
              "      <th>Toluene</th>\n",
              "      <th>Xylene</th>\n",
              "      <th>AQI</th>\n",
              "    </tr>\n",
              "  </thead>\n",
              "  <tbody>\n",
              "    <tr>\n",
              "      <th>count</th>\n",
              "      <td>24933.000000</td>\n",
              "      <td>18391.000000</td>\n",
              "      <td>25949.000000</td>\n",
              "      <td>25946.000000</td>\n",
              "      <td>25346.000000</td>\n",
              "      <td>19203.000000</td>\n",
              "      <td>27472.000000</td>\n",
              "      <td>25677.000000</td>\n",
              "      <td>25509.000000</td>\n",
              "      <td>23908.000000</td>\n",
              "      <td>21490.000000</td>\n",
              "      <td>11422.000000</td>\n",
              "      <td>24850.000000</td>\n",
              "    </tr>\n",
              "    <tr>\n",
              "      <th>mean</th>\n",
              "      <td>67.450578</td>\n",
              "      <td>118.127103</td>\n",
              "      <td>17.574730</td>\n",
              "      <td>28.560659</td>\n",
              "      <td>32.309123</td>\n",
              "      <td>23.483476</td>\n",
              "      <td>2.248598</td>\n",
              "      <td>14.531977</td>\n",
              "      <td>34.491430</td>\n",
              "      <td>3.280840</td>\n",
              "      <td>8.700972</td>\n",
              "      <td>3.070128</td>\n",
              "      <td>166.463581</td>\n",
              "    </tr>\n",
              "    <tr>\n",
              "      <th>std</th>\n",
              "      <td>64.661449</td>\n",
              "      <td>90.605110</td>\n",
              "      <td>22.785846</td>\n",
              "      <td>24.474746</td>\n",
              "      <td>31.646011</td>\n",
              "      <td>25.684275</td>\n",
              "      <td>6.962884</td>\n",
              "      <td>18.133775</td>\n",
              "      <td>21.694928</td>\n",
              "      <td>15.811136</td>\n",
              "      <td>19.969164</td>\n",
              "      <td>6.323247</td>\n",
              "      <td>140.696585</td>\n",
              "    </tr>\n",
              "    <tr>\n",
              "      <th>min</th>\n",
              "      <td>0.040000</td>\n",
              "      <td>0.010000</td>\n",
              "      <td>0.020000</td>\n",
              "      <td>0.010000</td>\n",
              "      <td>0.000000</td>\n",
              "      <td>0.010000</td>\n",
              "      <td>0.000000</td>\n",
              "      <td>0.010000</td>\n",
              "      <td>0.010000</td>\n",
              "      <td>0.000000</td>\n",
              "      <td>0.000000</td>\n",
              "      <td>0.000000</td>\n",
              "      <td>13.000000</td>\n",
              "    </tr>\n",
              "    <tr>\n",
              "      <th>25%</th>\n",
              "      <td>28.820000</td>\n",
              "      <td>56.255000</td>\n",
              "      <td>5.630000</td>\n",
              "      <td>11.750000</td>\n",
              "      <td>12.820000</td>\n",
              "      <td>8.580000</td>\n",
              "      <td>0.510000</td>\n",
              "      <td>5.670000</td>\n",
              "      <td>18.860000</td>\n",
              "      <td>0.120000</td>\n",
              "      <td>0.600000</td>\n",
              "      <td>0.140000</td>\n",
              "      <td>81.000000</td>\n",
              "    </tr>\n",
              "    <tr>\n",
              "      <th>50%</th>\n",
              "      <td>48.570000</td>\n",
              "      <td>95.680000</td>\n",
              "      <td>9.890000</td>\n",
              "      <td>21.690000</td>\n",
              "      <td>23.520000</td>\n",
              "      <td>15.850000</td>\n",
              "      <td>0.890000</td>\n",
              "      <td>9.160000</td>\n",
              "      <td>30.840000</td>\n",
              "      <td>1.070000</td>\n",
              "      <td>2.970000</td>\n",
              "      <td>0.980000</td>\n",
              "      <td>118.000000</td>\n",
              "    </tr>\n",
              "    <tr>\n",
              "      <th>75%</th>\n",
              "      <td>80.590000</td>\n",
              "      <td>149.745000</td>\n",
              "      <td>19.950000</td>\n",
              "      <td>37.620000</td>\n",
              "      <td>40.127500</td>\n",
              "      <td>30.020000</td>\n",
              "      <td>1.450000</td>\n",
              "      <td>15.220000</td>\n",
              "      <td>45.570000</td>\n",
              "      <td>3.080000</td>\n",
              "      <td>9.150000</td>\n",
              "      <td>3.350000</td>\n",
              "      <td>208.000000</td>\n",
              "    </tr>\n",
              "    <tr>\n",
              "      <th>max</th>\n",
              "      <td>949.990000</td>\n",
              "      <td>1000.000000</td>\n",
              "      <td>390.680000</td>\n",
              "      <td>362.210000</td>\n",
              "      <td>467.630000</td>\n",
              "      <td>352.890000</td>\n",
              "      <td>175.810000</td>\n",
              "      <td>193.860000</td>\n",
              "      <td>257.730000</td>\n",
              "      <td>455.030000</td>\n",
              "      <td>454.850000</td>\n",
              "      <td>170.370000</td>\n",
              "      <td>2049.000000</td>\n",
              "    </tr>\n",
              "  </tbody>\n",
              "</table>\n",
              "</div>"
            ],
            "text/plain": [
              "              PM2.5          PM10  ...        Xylene           AQI\n",
              "count  24933.000000  18391.000000  ...  11422.000000  24850.000000\n",
              "mean      67.450578    118.127103  ...      3.070128    166.463581\n",
              "std       64.661449     90.605110  ...      6.323247    140.696585\n",
              "min        0.040000      0.010000  ...      0.000000     13.000000\n",
              "25%       28.820000     56.255000  ...      0.140000     81.000000\n",
              "50%       48.570000     95.680000  ...      0.980000    118.000000\n",
              "75%       80.590000    149.745000  ...      3.350000    208.000000\n",
              "max      949.990000   1000.000000  ...    170.370000   2049.000000\n",
              "\n",
              "[8 rows x 13 columns]"
            ]
          },
          "metadata": {
            "tags": []
          },
          "execution_count": 19
        }
      ]
    },
    {
      "cell_type": "markdown",
      "metadata": {
        "id": "NK7n2qOeqLxD"
      },
      "source": [
        "### Cleaning The Dataset\n",
        "\n",
        "##### Here we going to convert the type of Date column to datetime64 type using the helper function pd.to_datetime(air_pollution_df1.Date, format='%Y-%m-%d') ."
      ]
    },
    {
      "cell_type": "code",
      "metadata": {
        "colab": {
          "base_uri": "https://localhost:8080/"
        },
        "id": "3Qq2uydSqLxD",
        "outputId": "bd2bd2a5-9d26-4188-fefe-b0e2d9fd9247"
      },
      "source": [
        "air_pollution_df1 = air_pollution_df\n",
        "air_pollution_df1.Date = pd.to_datetime(air_pollution_df1.Date, format='%Y-%m-%d')\n",
        "air_pollution_df1.info()"
      ],
      "execution_count": 20,
      "outputs": [
        {
          "output_type": "stream",
          "text": [
            "<class 'pandas.core.frame.DataFrame'>\n",
            "RangeIndex: 29531 entries, 0 to 29530\n",
            "Data columns (total 16 columns):\n",
            " #   Column      Non-Null Count  Dtype         \n",
            "---  ------      --------------  -----         \n",
            " 0   City        29531 non-null  object        \n",
            " 1   Date        29531 non-null  datetime64[ns]\n",
            " 2   PM2.5       24933 non-null  float64       \n",
            " 3   PM10        18391 non-null  float64       \n",
            " 4   NO          25949 non-null  float64       \n",
            " 5   NO2         25946 non-null  float64       \n",
            " 6   NOx         25346 non-null  float64       \n",
            " 7   NH3         19203 non-null  float64       \n",
            " 8   CO          27472 non-null  float64       \n",
            " 9   SO2         25677 non-null  float64       \n",
            " 10  O3          25509 non-null  float64       \n",
            " 11  Benzene     23908 non-null  float64       \n",
            " 12  Toluene     21490 non-null  float64       \n",
            " 13  Xylene      11422 non-null  float64       \n",
            " 14  AQI         24850 non-null  float64       \n",
            " 15  AQI_Bucket  24850 non-null  object        \n",
            "dtypes: datetime64[ns](1), float64(13), object(2)\n",
            "memory usage: 3.6+ MB\n"
          ],
          "name": "stdout"
        }
      ]
    },
    {
      "cell_type": "markdown",
      "metadata": {
        "id": "6hBxYkwnqLxD"
      },
      "source": [
        "## Missing Values"
      ]
    },
    {
      "cell_type": "code",
      "metadata": {
        "colab": {
          "base_uri": "https://localhost:8080/"
        },
        "id": "RR68gDFYqLxE",
        "outputId": "3c5f7839-2fbe-408f-9b7d-d8264e791ca1"
      },
      "source": [
        "air_pollution_df1.isnull().sum()"
      ],
      "execution_count": 21,
      "outputs": [
        {
          "output_type": "execute_result",
          "data": {
            "text/plain": [
              "City              0\n",
              "Date              0\n",
              "PM2.5          4598\n",
              "PM10          11140\n",
              "NO             3582\n",
              "NO2            3585\n",
              "NOx            4185\n",
              "NH3           10328\n",
              "CO             2059\n",
              "SO2            3854\n",
              "O3             4022\n",
              "Benzene        5623\n",
              "Toluene        8041\n",
              "Xylene        18109\n",
              "AQI            4681\n",
              "AQI_Bucket     4681\n",
              "dtype: int64"
            ]
          },
          "metadata": {
            "tags": []
          },
          "execution_count": 21
        }
      ]
    },
    {
      "cell_type": "markdown",
      "metadata": {
        "id": "Wj2kDkJoqLxE"
      },
      "source": [
        "## Handling the missing data\n",
        "\n",
        "#### we will be hangling the mising values using interpolate function"
      ]
    },
    {
      "cell_type": "code",
      "metadata": {
        "scrolled": true,
        "colab": {
          "base_uri": "https://localhost:8080/"
        },
        "id": "ylyNUws8qLxE",
        "outputId": "1cfc46a3-8282-400c-f92a-c6a81f2c63d6"
      },
      "source": [
        "air_pollution_df1.interpolate(limit_direction = \"both\", inplace = True)\n",
        "air_pollution_df1[\"AQI_Bucket\"] = air_pollution_df1[\"AQI_Bucket\"].fillna(\"Nill\") #Replacing NAN with Nill \n",
        "# air_pollution_df\n",
        "air_pollution_df1.isnull().sum()"
      ],
      "execution_count": 22,
      "outputs": [
        {
          "output_type": "execute_result",
          "data": {
            "text/plain": [
              "City          0\n",
              "Date          0\n",
              "PM2.5         0\n",
              "PM10          0\n",
              "NO            0\n",
              "NO2           0\n",
              "NOx           0\n",
              "NH3           0\n",
              "CO            0\n",
              "SO2           0\n",
              "O3            0\n",
              "Benzene       0\n",
              "Toluene       0\n",
              "Xylene        0\n",
              "AQI           0\n",
              "AQI_Bucket    0\n",
              "dtype: int64"
            ]
          },
          "metadata": {
            "tags": []
          },
          "execution_count": 22
        }
      ]
    },
    {
      "cell_type": "markdown",
      "metadata": {
        "id": "x6ccV8OfqLxF"
      },
      "source": [
        "###  Now we adding the values in columns(Benzene,Toulene,Xylene) into a single column \"BTX\"."
      ]
    },
    {
      "cell_type": "code",
      "metadata": {
        "id": "RBUFOhUxqLxF"
      },
      "source": [
        "air_pollution_df1['BTX'] = air_pollution_df1['Benzene'] + air_pollution_df1['Toluene'] + air_pollution_df1['Xylene']\n",
        "air_pollution_df1 = air_pollution_df1.drop(['Benzene','Toluene','Xylene'],axis=1)"
      ],
      "execution_count": 23,
      "outputs": []
    },
    {
      "cell_type": "markdown",
      "metadata": {
        "id": "1ArC4_HbqLxG"
      },
      "source": [
        "### In the below cell we adding the values in columns(PM2.5,PM10) into a single column \"Particulate_Matter\"."
      ]
    },
    {
      "cell_type": "code",
      "metadata": {
        "colab": {
          "base_uri": "https://localhost:8080/",
          "height": 402
        },
        "id": "UxqlCzpvqLxG",
        "outputId": "f128c311-a06a-4df1-83cf-47b730fb49e0"
      },
      "source": [
        "air_pollution_df1['Particulate_Matter'] = air_pollution_df1['PM2.5'] + air_pollution_df1['PM10']\n",
        "air_pollution_df1 "
      ],
      "execution_count": 24,
      "outputs": [
        {
          "output_type": "execute_result",
          "data": {
            "text/html": [
              "<div>\n",
              "<style scoped>\n",
              "    .dataframe tbody tr th:only-of-type {\n",
              "        vertical-align: middle;\n",
              "    }\n",
              "\n",
              "    .dataframe tbody tr th {\n",
              "        vertical-align: top;\n",
              "    }\n",
              "\n",
              "    .dataframe thead th {\n",
              "        text-align: right;\n",
              "    }\n",
              "</style>\n",
              "<table border=\"1\" class=\"dataframe\">\n",
              "  <thead>\n",
              "    <tr style=\"text-align: right;\">\n",
              "      <th></th>\n",
              "      <th>City</th>\n",
              "      <th>Date</th>\n",
              "      <th>PM2.5</th>\n",
              "      <th>PM10</th>\n",
              "      <th>NO</th>\n",
              "      <th>NO2</th>\n",
              "      <th>NOx</th>\n",
              "      <th>NH3</th>\n",
              "      <th>CO</th>\n",
              "      <th>SO2</th>\n",
              "      <th>O3</th>\n",
              "      <th>AQI</th>\n",
              "      <th>AQI_Bucket</th>\n",
              "      <th>BTX</th>\n",
              "      <th>Particulate_Matter</th>\n",
              "    </tr>\n",
              "  </thead>\n",
              "  <tbody>\n",
              "    <tr>\n",
              "      <th>0</th>\n",
              "      <td>Ahmedabad</td>\n",
              "      <td>2015-01-01</td>\n",
              "      <td>73.24</td>\n",
              "      <td>141.54</td>\n",
              "      <td>0.92</td>\n",
              "      <td>18.22</td>\n",
              "      <td>17.15</td>\n",
              "      <td>26.64</td>\n",
              "      <td>0.92</td>\n",
              "      <td>27.64</td>\n",
              "      <td>133.36</td>\n",
              "      <td>209.0</td>\n",
              "      <td>Nill</td>\n",
              "      <td>0.02</td>\n",
              "      <td>214.78</td>\n",
              "    </tr>\n",
              "    <tr>\n",
              "      <th>1</th>\n",
              "      <td>Ahmedabad</td>\n",
              "      <td>2015-01-02</td>\n",
              "      <td>73.24</td>\n",
              "      <td>141.54</td>\n",
              "      <td>0.97</td>\n",
              "      <td>15.69</td>\n",
              "      <td>16.46</td>\n",
              "      <td>26.64</td>\n",
              "      <td>0.97</td>\n",
              "      <td>24.55</td>\n",
              "      <td>34.06</td>\n",
              "      <td>209.0</td>\n",
              "      <td>Nill</td>\n",
              "      <td>12.95</td>\n",
              "      <td>214.78</td>\n",
              "    </tr>\n",
              "    <tr>\n",
              "      <th>2</th>\n",
              "      <td>Ahmedabad</td>\n",
              "      <td>2015-01-03</td>\n",
              "      <td>73.24</td>\n",
              "      <td>141.54</td>\n",
              "      <td>17.40</td>\n",
              "      <td>19.30</td>\n",
              "      <td>29.70</td>\n",
              "      <td>26.64</td>\n",
              "      <td>17.40</td>\n",
              "      <td>29.07</td>\n",
              "      <td>30.70</td>\n",
              "      <td>209.0</td>\n",
              "      <td>Nill</td>\n",
              "      <td>25.45</td>\n",
              "      <td>214.78</td>\n",
              "    </tr>\n",
              "    <tr>\n",
              "      <th>3</th>\n",
              "      <td>Ahmedabad</td>\n",
              "      <td>2015-01-04</td>\n",
              "      <td>73.24</td>\n",
              "      <td>141.54</td>\n",
              "      <td>1.70</td>\n",
              "      <td>18.48</td>\n",
              "      <td>17.97</td>\n",
              "      <td>26.64</td>\n",
              "      <td>1.70</td>\n",
              "      <td>18.59</td>\n",
              "      <td>36.08</td>\n",
              "      <td>209.0</td>\n",
              "      <td>Nill</td>\n",
              "      <td>15.57</td>\n",
              "      <td>214.78</td>\n",
              "    </tr>\n",
              "    <tr>\n",
              "      <th>4</th>\n",
              "      <td>Ahmedabad</td>\n",
              "      <td>2015-01-05</td>\n",
              "      <td>73.24</td>\n",
              "      <td>141.54</td>\n",
              "      <td>22.10</td>\n",
              "      <td>21.42</td>\n",
              "      <td>37.76</td>\n",
              "      <td>26.64</td>\n",
              "      <td>22.10</td>\n",
              "      <td>39.33</td>\n",
              "      <td>39.31</td>\n",
              "      <td>209.0</td>\n",
              "      <td>Nill</td>\n",
              "      <td>28.68</td>\n",
              "      <td>214.78</td>\n",
              "    </tr>\n",
              "    <tr>\n",
              "      <th>...</th>\n",
              "      <td>...</td>\n",
              "      <td>...</td>\n",
              "      <td>...</td>\n",
              "      <td>...</td>\n",
              "      <td>...</td>\n",
              "      <td>...</td>\n",
              "      <td>...</td>\n",
              "      <td>...</td>\n",
              "      <td>...</td>\n",
              "      <td>...</td>\n",
              "      <td>...</td>\n",
              "      <td>...</td>\n",
              "      <td>...</td>\n",
              "      <td>...</td>\n",
              "      <td>...</td>\n",
              "    </tr>\n",
              "    <tr>\n",
              "      <th>29526</th>\n",
              "      <td>Visakhapatnam</td>\n",
              "      <td>2020-06-27</td>\n",
              "      <td>15.02</td>\n",
              "      <td>50.94</td>\n",
              "      <td>7.68</td>\n",
              "      <td>25.06</td>\n",
              "      <td>19.54</td>\n",
              "      <td>12.47</td>\n",
              "      <td>0.47</td>\n",
              "      <td>8.55</td>\n",
              "      <td>23.30</td>\n",
              "      <td>41.0</td>\n",
              "      <td>Good</td>\n",
              "      <td>15.04</td>\n",
              "      <td>65.96</td>\n",
              "    </tr>\n",
              "    <tr>\n",
              "      <th>29527</th>\n",
              "      <td>Visakhapatnam</td>\n",
              "      <td>2020-06-28</td>\n",
              "      <td>24.38</td>\n",
              "      <td>74.09</td>\n",
              "      <td>3.42</td>\n",
              "      <td>26.06</td>\n",
              "      <td>16.53</td>\n",
              "      <td>11.99</td>\n",
              "      <td>0.52</td>\n",
              "      <td>12.72</td>\n",
              "      <td>30.14</td>\n",
              "      <td>70.0</td>\n",
              "      <td>Satisfactory</td>\n",
              "      <td>3.33</td>\n",
              "      <td>98.47</td>\n",
              "    </tr>\n",
              "    <tr>\n",
              "      <th>29528</th>\n",
              "      <td>Visakhapatnam</td>\n",
              "      <td>2020-06-29</td>\n",
              "      <td>22.91</td>\n",
              "      <td>65.73</td>\n",
              "      <td>3.45</td>\n",
              "      <td>29.53</td>\n",
              "      <td>18.33</td>\n",
              "      <td>10.71</td>\n",
              "      <td>0.48</td>\n",
              "      <td>8.42</td>\n",
              "      <td>30.96</td>\n",
              "      <td>68.0</td>\n",
              "      <td>Satisfactory</td>\n",
              "      <td>0.02</td>\n",
              "      <td>88.64</td>\n",
              "    </tr>\n",
              "    <tr>\n",
              "      <th>29529</th>\n",
              "      <td>Visakhapatnam</td>\n",
              "      <td>2020-06-30</td>\n",
              "      <td>16.64</td>\n",
              "      <td>49.97</td>\n",
              "      <td>4.05</td>\n",
              "      <td>29.26</td>\n",
              "      <td>18.80</td>\n",
              "      <td>10.03</td>\n",
              "      <td>0.52</td>\n",
              "      <td>9.84</td>\n",
              "      <td>28.30</td>\n",
              "      <td>54.0</td>\n",
              "      <td>Satisfactory</td>\n",
              "      <td>0.00</td>\n",
              "      <td>66.61</td>\n",
              "    </tr>\n",
              "    <tr>\n",
              "      <th>29530</th>\n",
              "      <td>Visakhapatnam</td>\n",
              "      <td>2020-07-01</td>\n",
              "      <td>15.00</td>\n",
              "      <td>66.00</td>\n",
              "      <td>0.40</td>\n",
              "      <td>26.85</td>\n",
              "      <td>14.05</td>\n",
              "      <td>5.20</td>\n",
              "      <td>0.59</td>\n",
              "      <td>2.10</td>\n",
              "      <td>17.05</td>\n",
              "      <td>50.0</td>\n",
              "      <td>Good</td>\n",
              "      <td>0.00</td>\n",
              "      <td>81.00</td>\n",
              "    </tr>\n",
              "  </tbody>\n",
              "</table>\n",
              "<p>29531 rows × 15 columns</p>\n",
              "</div>"
            ],
            "text/plain": [
              "                City       Date  PM2.5  ...    AQI_Bucket    BTX  Particulate_Matter\n",
              "0          Ahmedabad 2015-01-01  73.24  ...          Nill   0.02              214.78\n",
              "1          Ahmedabad 2015-01-02  73.24  ...          Nill  12.95              214.78\n",
              "2          Ahmedabad 2015-01-03  73.24  ...          Nill  25.45              214.78\n",
              "3          Ahmedabad 2015-01-04  73.24  ...          Nill  15.57              214.78\n",
              "4          Ahmedabad 2015-01-05  73.24  ...          Nill  28.68              214.78\n",
              "...              ...        ...    ...  ...           ...    ...                 ...\n",
              "29526  Visakhapatnam 2020-06-27  15.02  ...          Good  15.04               65.96\n",
              "29527  Visakhapatnam 2020-06-28  24.38  ...  Satisfactory   3.33               98.47\n",
              "29528  Visakhapatnam 2020-06-29  22.91  ...  Satisfactory   0.02               88.64\n",
              "29529  Visakhapatnam 2020-06-30  16.64  ...  Satisfactory   0.00               66.61\n",
              "29530  Visakhapatnam 2020-07-01  15.00  ...          Good   0.00               81.00\n",
              "\n",
              "[29531 rows x 15 columns]"
            ]
          },
          "metadata": {
            "tags": []
          },
          "execution_count": 24
        }
      ]
    },
    {
      "cell_type": "code",
      "metadata": {
        "id": "pP3hMwRNqLxG"
      },
      "source": [
        "pollutants = ['PM2.5','PM10','NO2', 'CO', 'SO2','O3', 'BTX']"
      ],
      "execution_count": 25,
      "outputs": []
    },
    {
      "cell_type": "code",
      "metadata": {
        "id": "4cWqmEWsqLxH"
      },
      "source": [
        "\r\n",
        "import jovian"
      ],
      "execution_count": 26,
      "outputs": []
    },
    {
      "cell_type": "code",
      "metadata": {
        "colab": {
          "base_uri": "https://localhost:8080/",
          "height": 102
        },
        "id": "KpMbqh__qLxH",
        "outputId": "5facb8af-8370-46ec-adb7-ecfc263b6fb8"
      },
      "source": [
        "\r\n",
        "\r\n",
        "jovian.commit()"
      ],
      "execution_count": 27,
      "outputs": [
        {
          "output_type": "stream",
          "text": [
            "[jovian] Detected Colab notebook...\u001b[0m\n",
            "[jovian] Uploading colab notebook to Jovian...\u001b[0m\n",
            "[jovian] Capturing environment..\u001b[0m\n",
            "[jovian] Committed successfully! https://jovian.ai/thechandramohan01/air-quality-data-in-india\u001b[0m\n"
          ],
          "name": "stdout"
        },
        {
          "output_type": "execute_result",
          "data": {
            "application/vnd.google.colaboratory.intrinsic+json": {
              "type": "string"
            },
            "text/plain": [
              "'https://jovian.ai/thechandramohan01/air-quality-data-in-india'"
            ]
          },
          "metadata": {
            "tags": []
          },
          "execution_count": 27
        }
      ]
    },
    {
      "cell_type": "markdown",
      "metadata": {
        "id": "T9NvffGIqLxH"
      },
      "source": [
        "# Exploratory Analysis and Visualization\n",
        "\n",
        "## Visualizing the yearly data\n",
        "\n"
      ]
    },
    {
      "cell_type": "markdown",
      "metadata": {
        "id": "l3ZR2XPDqLxI"
      },
      "source": [
        "\n",
        "> Instructions (delete this cell)\n",
        "> \n",
        "> - Compute the mean, sum, range and other interesting statistics for numeric columns\n",
        "> - Explore distributions of numeric columns using histograms etc.\n",
        "> - Explore relationship between columns using scatter plots, bar charts etc.\n",
        "> - Make a note of interesting insights from the exploratory analysis"
      ]
    },
    {
      "cell_type": "markdown",
      "metadata": {
        "id": "7tTzyOEFqLxI"
      },
      "source": [
        "Let's begin by importing`matplotlib.pyplot` and `seaborn`."
      ]
    },
    {
      "cell_type": "code",
      "metadata": {
        "id": "3vEiswVsqLxI"
      },
      "source": [
        "import seaborn as sns\n",
        "import matplotlib\n",
        "import matplotlib.pyplot as plt\n",
        "%matplotlib inline\n",
        "\n",
        "sns.set_style('darkgrid')\n",
        "matplotlib.rcParams['font.size'] = 14\n",
        "matplotlib.rcParams['figure.figsize'] = (9, 5)\n",
        "matplotlib.rcParams['figure.facecolor'] = '#00000000'"
      ],
      "execution_count": 28,
      "outputs": []
    },
    {
      "cell_type": "markdown",
      "metadata": {
        "id": "RW7RBI-2qLxI"
      },
      "source": [
        "**TODO** - Explore one or more columns by plotting a graph below, and add some explanation about it"
      ]
    },
    {
      "cell_type": "code",
      "metadata": {
        "colab": {
          "base_uri": "https://localhost:8080/",
          "height": 1000
        },
        "id": "7cf4IGsCqLxJ",
        "outputId": "0397399e-0ac6-4726-e2e9-29bc1a381311"
      },
      "source": [
        "air_pollution_df1.set_index('Date',inplace=True) #Setting the Date field as an index\n",
        "axes = air_pollution_df1[pollutants].plot(marker='.', alpha=0.5, linestyle='None', figsize=(16, 20), subplots=True)\n",
        "for ax in axes:\n",
        "    ax.set_xlabel('Years')\n",
        "    ax.set_ylabel('ug / m3')"
      ],
      "execution_count": 29,
      "outputs": [
        {
          "output_type": "display_data",
          "data": {
            "image/png": "[encoded data removed]",
            "text/plain": [
              "<Figure size 1152x1440 with 7 Axes>"
            ]
          },
          "metadata": {
            "tags": [],
            "needs_background": "light"
          }
        }
      ]
    },
    {
      "cell_type": "markdown",
      "metadata": {
        "id": "0Q2x8f5BqLxO"
      },
      "source": [
        "## Lets answer some of the questions"
      ]
    },
    {
      "cell_type": "markdown",
      "metadata": {
        "id": "QmYFMR-NqLxP"
      },
      "source": [
        "#### 1.Which city has recorded the highest value of AQI ?"
      ]
    },
    {
      "cell_type": "code",
      "metadata": {
        "colab": {
          "base_uri": "https://localhost:8080/",
          "height": 106
        },
        "id": "WMtg6xViqLxR",
        "outputId": "64caf6e0-9400-4b17-83e2-5523b13e669a"
      },
      "source": [
        "#Lets check the AQI(Air Quality Index) of the highly polluted city. \n",
        "Max = air_pollution_df1.AQI.max()\n",
        "air_pollution_df1[air_pollution_df1.AQI == Max]"
      ],
      "execution_count": 30,
      "outputs": [
        {
          "output_type": "execute_result",
          "data": {
            "text/html": [
              "<div>\n",
              "<style scoped>\n",
              "    .dataframe tbody tr th:only-of-type {\n",
              "        vertical-align: middle;\n",
              "    }\n",
              "\n",
              "    .dataframe tbody tr th {\n",
              "        vertical-align: top;\n",
              "    }\n",
              "\n",
              "    .dataframe thead th {\n",
              "        text-align: right;\n",
              "    }\n",
              "</style>\n",
              "<table border=\"1\" class=\"dataframe\">\n",
              "  <thead>\n",
              "    <tr style=\"text-align: right;\">\n",
              "      <th></th>\n",
              "      <th>City</th>\n",
              "      <th>PM2.5</th>\n",
              "      <th>PM10</th>\n",
              "      <th>NO</th>\n",
              "      <th>NO2</th>\n",
              "      <th>NOx</th>\n",
              "      <th>NH3</th>\n",
              "      <th>CO</th>\n",
              "      <th>SO2</th>\n",
              "      <th>O3</th>\n",
              "      <th>AQI</th>\n",
              "      <th>AQI_Bucket</th>\n",
              "      <th>BTX</th>\n",
              "      <th>Particulate_Matter</th>\n",
              "    </tr>\n",
              "    <tr>\n",
              "      <th>Date</th>\n",
              "      <th></th>\n",
              "      <th></th>\n",
              "      <th></th>\n",
              "      <th></th>\n",
              "      <th></th>\n",
              "      <th></th>\n",
              "      <th></th>\n",
              "      <th></th>\n",
              "      <th></th>\n",
              "      <th></th>\n",
              "      <th></th>\n",
              "      <th></th>\n",
              "      <th></th>\n",
              "      <th></th>\n",
              "    </tr>\n",
              "  </thead>\n",
              "  <tbody>\n",
              "    <tr>\n",
              "      <th>2018-02-19</th>\n",
              "      <td>Ahmedabad</td>\n",
              "      <td>242.66</td>\n",
              "      <td>141.54</td>\n",
              "      <td>132.47</td>\n",
              "      <td>199.17</td>\n",
              "      <td>246.03</td>\n",
              "      <td>26.64</td>\n",
              "      <td>132.47</td>\n",
              "      <td>127.725</td>\n",
              "      <td>44.06</td>\n",
              "      <td>2049.0</td>\n",
              "      <td>Severe</td>\n",
              "      <td>9.76</td>\n",
              "      <td>384.2</td>\n",
              "    </tr>\n",
              "  </tbody>\n",
              "</table>\n",
              "</div>"
            ],
            "text/plain": [
              "                 City   PM2.5    PM10  ...  AQI_Bucket   BTX  Particulate_Matter\n",
              "Date                                   ...                                      \n",
              "2018-02-19  Ahmedabad  242.66  141.54  ...      Severe  9.76               384.2\n",
              "\n",
              "[1 rows x 14 columns]"
            ]
          },
          "metadata": {
            "tags": []
          },
          "execution_count": 30
        }
      ]
    },
    {
      "cell_type": "markdown",
      "metadata": {
        "id": "Uvcj4otVqLxS"
      },
      "source": [
        "#### 2.List of cities that has recorded severe AQI(Air Quality Index) above 400 ?"
      ]
    },
    {
      "cell_type": "markdown",
      "metadata": {
        "id": "SYW5zBdIqLxT"
      },
      "source": [
        "**TODO** - Explore one or more columns by plotting a graph below, and add some explanation about it"
      ]
    },
    {
      "cell_type": "code",
      "metadata": {
        "colab": {
          "base_uri": "https://localhost:8080/"
        },
        "id": "mJZC5QsmqLxT",
        "outputId": "6fd33d05-8eeb-4c70-9cf5-a7b0a2801da5"
      },
      "source": [
        "#Highly polluted cities\n",
        "highly_polluted_cities = air_pollution_df1.loc[air_pollution_df1.AQI > 400][[\"City\",\"AQI\",\"Particulate_Matter\",\"AQI_Bucket\"]]\n",
        "# top_polluted_cities  = air_pollution_df1[air_pollution_df1['Date'] >= '2019-01-01']\n",
        "highly_polluted_cities.City.unique()"
      ],
      "execution_count": 31,
      "outputs": [
        {
          "output_type": "execute_result",
          "data": {
            "text/plain": [
              "array(['Ahmedabad', 'Amritsar', 'Chennai', 'Delhi', 'Gurugram',\n",
              "       'Guwahati', 'Hyderabad', 'Jaipur', 'Jorapokhar', 'Kolkata',\n",
              "       'Lucknow', 'Patna', 'Talcher'], dtype=object)"
            ]
          },
          "metadata": {
            "tags": []
          },
          "execution_count": 31
        }
      ]
    },
    {
      "cell_type": "code",
      "metadata": {
        "colab": {
          "base_uri": "https://localhost:8080/",
          "height": 431
        },
        "id": "pAr4BjkNqLxU",
        "outputId": "f8a75c7b-5a50-44bf-d854-090df80ef762"
      },
      "source": [
        "air_pollution_df1"
      ],
      "execution_count": 32,
      "outputs": [
        {
          "output_type": "execute_result",
          "data": {
            "text/html": [
              "<div>\n",
              "<style scoped>\n",
              "    .dataframe tbody tr th:only-of-type {\n",
              "        vertical-align: middle;\n",
              "    }\n",
              "\n",
              "    .dataframe tbody tr th {\n",
              "        vertical-align: top;\n",
              "    }\n",
              "\n",
              "    .dataframe thead th {\n",
              "        text-align: right;\n",
              "    }\n",
              "</style>\n",
              "<table border=\"1\" class=\"dataframe\">\n",
              "  <thead>\n",
              "    <tr style=\"text-align: right;\">\n",
              "      <th></th>\n",
              "      <th>City</th>\n",
              "      <th>PM2.5</th>\n",
              "      <th>PM10</th>\n",
              "      <th>NO</th>\n",
              "      <th>NO2</th>\n",
              "      <th>NOx</th>\n",
              "      <th>NH3</th>\n",
              "      <th>CO</th>\n",
              "      <th>SO2</th>\n",
              "      <th>O3</th>\n",
              "      <th>AQI</th>\n",
              "      <th>AQI_Bucket</th>\n",
              "      <th>BTX</th>\n",
              "      <th>Particulate_Matter</th>\n",
              "    </tr>\n",
              "    <tr>\n",
              "      <th>Date</th>\n",
              "      <th></th>\n",
              "      <th></th>\n",
              "      <th></th>\n",
              "      <th></th>\n",
              "      <th></th>\n",
              "      <th></th>\n",
              "      <th></th>\n",
              "      <th></th>\n",
              "      <th></th>\n",
              "      <th></th>\n",
              "      <th></th>\n",
              "      <th></th>\n",
              "      <th></th>\n",
              "      <th></th>\n",
              "    </tr>\n",
              "  </thead>\n",
              "  <tbody>\n",
              "    <tr>\n",
              "      <th>2015-01-01</th>\n",
              "      <td>Ahmedabad</td>\n",
              "      <td>73.24</td>\n",
              "      <td>141.54</td>\n",
              "      <td>0.92</td>\n",
              "      <td>18.22</td>\n",
              "      <td>17.15</td>\n",
              "      <td>26.64</td>\n",
              "      <td>0.92</td>\n",
              "      <td>27.64</td>\n",
              "      <td>133.36</td>\n",
              "      <td>209.0</td>\n",
              "      <td>Nill</td>\n",
              "      <td>0.02</td>\n",
              "      <td>214.78</td>\n",
              "    </tr>\n",
              "    <tr>\n",
              "      <th>2015-01-02</th>\n",
              "      <td>Ahmedabad</td>\n",
              "      <td>73.24</td>\n",
              "      <td>141.54</td>\n",
              "      <td>0.97</td>\n",
              "      <td>15.69</td>\n",
              "      <td>16.46</td>\n",
              "      <td>26.64</td>\n",
              "      <td>0.97</td>\n",
              "      <td>24.55</td>\n",
              "      <td>34.06</td>\n",
              "      <td>209.0</td>\n",
              "      <td>Nill</td>\n",
              "      <td>12.95</td>\n",
              "      <td>214.78</td>\n",
              "    </tr>\n",
              "    <tr>\n",
              "      <th>2015-01-03</th>\n",
              "      <td>Ahmedabad</td>\n",
              "      <td>73.24</td>\n",
              "      <td>141.54</td>\n",
              "      <td>17.40</td>\n",
              "      <td>19.30</td>\n",
              "      <td>29.70</td>\n",
              "      <td>26.64</td>\n",
              "      <td>17.40</td>\n",
              "      <td>29.07</td>\n",
              "      <td>30.70</td>\n",
              "      <td>209.0</td>\n",
              "      <td>Nill</td>\n",
              "      <td>25.45</td>\n",
              "      <td>214.78</td>\n",
              "    </tr>\n",
              "    <tr>\n",
              "      <th>2015-01-04</th>\n",
              "      <td>Ahmedabad</td>\n",
              "      <td>73.24</td>\n",
              "      <td>141.54</td>\n",
              "      <td>1.70</td>\n",
              "      <td>18.48</td>\n",
              "      <td>17.97</td>\n",
              "      <td>26.64</td>\n",
              "      <td>1.70</td>\n",
              "      <td>18.59</td>\n",
              "      <td>36.08</td>\n",
              "      <td>209.0</td>\n",
              "      <td>Nill</td>\n",
              "      <td>15.57</td>\n",
              "      <td>214.78</td>\n",
              "    </tr>\n",
              "    <tr>\n",
              "      <th>2015-01-05</th>\n",
              "      <td>Ahmedabad</td>\n",
              "      <td>73.24</td>\n",
              "      <td>141.54</td>\n",
              "      <td>22.10</td>\n",
              "      <td>21.42</td>\n",
              "      <td>37.76</td>\n",
              "      <td>26.64</td>\n",
              "      <td>22.10</td>\n",
              "      <td>39.33</td>\n",
              "      <td>39.31</td>\n",
              "      <td>209.0</td>\n",
              "      <td>Nill</td>\n",
              "      <td>28.68</td>\n",
              "      <td>214.78</td>\n",
              "    </tr>\n",
              "    <tr>\n",
              "      <th>...</th>\n",
              "      <td>...</td>\n",
              "      <td>...</td>\n",
              "      <td>...</td>\n",
              "      <td>...</td>\n",
              "      <td>...</td>\n",
              "      <td>...</td>\n",
              "      <td>...</td>\n",
              "      <td>...</td>\n",
              "      <td>...</td>\n",
              "      <td>...</td>\n",
              "      <td>...</td>\n",
              "      <td>...</td>\n",
              "      <td>...</td>\n",
              "      <td>...</td>\n",
              "    </tr>\n",
              "    <tr>\n",
              "      <th>2020-06-27</th>\n",
              "      <td>Visakhapatnam</td>\n",
              "      <td>15.02</td>\n",
              "      <td>50.94</td>\n",
              "      <td>7.68</td>\n",
              "      <td>25.06</td>\n",
              "      <td>19.54</td>\n",
              "      <td>12.47</td>\n",
              "      <td>0.47</td>\n",
              "      <td>8.55</td>\n",
              "      <td>23.30</td>\n",
              "      <td>41.0</td>\n",
              "      <td>Good</td>\n",
              "      <td>15.04</td>\n",
              "      <td>65.96</td>\n",
              "    </tr>\n",
              "    <tr>\n",
              "      <th>2020-06-28</th>\n",
              "      <td>Visakhapatnam</td>\n",
              "      <td>24.38</td>\n",
              "      <td>74.09</td>\n",
              "      <td>3.42</td>\n",
              "      <td>26.06</td>\n",
              "      <td>16.53</td>\n",
              "      <td>11.99</td>\n",
              "      <td>0.52</td>\n",
              "      <td>12.72</td>\n",
              "      <td>30.14</td>\n",
              "      <td>70.0</td>\n",
              "      <td>Satisfactory</td>\n",
              "      <td>3.33</td>\n",
              "      <td>98.47</td>\n",
              "    </tr>\n",
              "    <tr>\n",
              "      <th>2020-06-29</th>\n",
              "      <td>Visakhapatnam</td>\n",
              "      <td>22.91</td>\n",
              "      <td>65.73</td>\n",
              "      <td>3.45</td>\n",
              "      <td>29.53</td>\n",
              "      <td>18.33</td>\n",
              "      <td>10.71</td>\n",
              "      <td>0.48</td>\n",
              "      <td>8.42</td>\n",
              "      <td>30.96</td>\n",
              "      <td>68.0</td>\n",
              "      <td>Satisfactory</td>\n",
              "      <td>0.02</td>\n",
              "      <td>88.64</td>\n",
              "    </tr>\n",
              "    <tr>\n",
              "      <th>2020-06-30</th>\n",
              "      <td>Visakhapatnam</td>\n",
              "      <td>16.64</td>\n",
              "      <td>49.97</td>\n",
              "      <td>4.05</td>\n",
              "      <td>29.26</td>\n",
              "      <td>18.80</td>\n",
              "      <td>10.03</td>\n",
              "      <td>0.52</td>\n",
              "      <td>9.84</td>\n",
              "      <td>28.30</td>\n",
              "      <td>54.0</td>\n",
              "      <td>Satisfactory</td>\n",
              "      <td>0.00</td>\n",
              "      <td>66.61</td>\n",
              "    </tr>\n",
              "    <tr>\n",
              "      <th>2020-07-01</th>\n",
              "      <td>Visakhapatnam</td>\n",
              "      <td>15.00</td>\n",
              "      <td>66.00</td>\n",
              "      <td>0.40</td>\n",
              "      <td>26.85</td>\n",
              "      <td>14.05</td>\n",
              "      <td>5.20</td>\n",
              "      <td>0.59</td>\n",
              "      <td>2.10</td>\n",
              "      <td>17.05</td>\n",
              "      <td>50.0</td>\n",
              "      <td>Good</td>\n",
              "      <td>0.00</td>\n",
              "      <td>81.00</td>\n",
              "    </tr>\n",
              "  </tbody>\n",
              "</table>\n",
              "<p>29531 rows × 14 columns</p>\n",
              "</div>"
            ],
            "text/plain": [
              "                     City  PM2.5  ...    BTX  Particulate_Matter\n",
              "Date                              ...                           \n",
              "2015-01-01      Ahmedabad  73.24  ...   0.02              214.78\n",
              "2015-01-02      Ahmedabad  73.24  ...  12.95              214.78\n",
              "2015-01-03      Ahmedabad  73.24  ...  25.45              214.78\n",
              "2015-01-04      Ahmedabad  73.24  ...  15.57              214.78\n",
              "2015-01-05      Ahmedabad  73.24  ...  28.68              214.78\n",
              "...                   ...    ...  ...    ...                 ...\n",
              "2020-06-27  Visakhapatnam  15.02  ...  15.04               65.96\n",
              "2020-06-28  Visakhapatnam  24.38  ...   3.33               98.47\n",
              "2020-06-29  Visakhapatnam  22.91  ...   0.02               88.64\n",
              "2020-06-30  Visakhapatnam  16.64  ...   0.00               66.61\n",
              "2020-07-01  Visakhapatnam  15.00  ...   0.00               81.00\n",
              "\n",
              "[29531 rows x 14 columns]"
            ]
          },
          "metadata": {
            "tags": []
          },
          "execution_count": 32
        }
      ]
    },
    {
      "cell_type": "markdown",
      "metadata": {
        "id": "ckozZiiOqLxU"
      },
      "source": [
        "#### 3.List of cities that has recorded least or good AQI(Air Quality Index) ?"
      ]
    },
    {
      "cell_type": "code",
      "metadata": {
        "colab": {
          "base_uri": "https://localhost:8080/"
        },
        "id": "7vUXf6-sqLxU",
        "outputId": "e2d68a5b-585d-474c-f80a-870f2be2308c"
      },
      "source": [
        "#Cities that has least or good AQI \n",
        "non_polluted_cities = air_pollution_df1.loc[air_pollution_df1.AQI <= 50][[\"City\",\"AQI\",\"Particulate_Matter\",\"AQI_Bucket\"]]\n",
        "# top_polluted_cities  = air_pollution_df1[air_pollution_df1['Date'] >= '2019-01-01']\n",
        "non_polluted_cities.City.unique()"
      ],
      "execution_count": 33,
      "outputs": [
        {
          "output_type": "execute_result",
          "data": {
            "text/plain": [
              "array(['Ahmedabad', 'Aizawl', 'Amaravati', 'Amritsar', 'Bengaluru',\n",
              "       'Bhopal', 'Brajrajnagar', 'Chandigarh', 'Chennai', 'Coimbatore',\n",
              "       'Delhi', 'Gurugram', 'Guwahati', 'Hyderabad', 'Jaipur',\n",
              "       'Jorapokhar', 'Kolkata', 'Lucknow', 'Mumbai', 'Shillong',\n",
              "       'Talcher', 'Thiruvananthapuram', 'Visakhapatnam'], dtype=object)"
            ]
          },
          "metadata": {
            "tags": []
          },
          "execution_count": 33
        }
      ]
    },
    {
      "cell_type": "markdown",
      "metadata": {
        "id": "ejrguZnfqLxV"
      },
      "source": [
        "## Converting the dataset into yearly data and storing in the variable yearky_data_df"
      ]
    },
    {
      "cell_type": "code",
      "metadata": {
        "colab": {
          "base_uri": "https://localhost:8080/",
          "height": 254
        },
        "id": "LSpmSI6JqLxV",
        "outputId": "46dbe3bf-4614-49ce-dd7f-add89e84b32d"
      },
      "source": [
        "yearly_data_df = air_pollution_df1.resample('1Y').mean()\n",
        "yearly_data_df"
      ],
      "execution_count": 34,
      "outputs": [
        {
          "output_type": "execute_result",
          "data": {
            "text/html": [
              "<div>\n",
              "<style scoped>\n",
              "    .dataframe tbody tr th:only-of-type {\n",
              "        vertical-align: middle;\n",
              "    }\n",
              "\n",
              "    .dataframe tbody tr th {\n",
              "        vertical-align: top;\n",
              "    }\n",
              "\n",
              "    .dataframe thead th {\n",
              "        text-align: right;\n",
              "    }\n",
              "</style>\n",
              "<table border=\"1\" class=\"dataframe\">\n",
              "  <thead>\n",
              "    <tr style=\"text-align: right;\">\n",
              "      <th></th>\n",
              "      <th>PM2.5</th>\n",
              "      <th>PM10</th>\n",
              "      <th>NO</th>\n",
              "      <th>NO2</th>\n",
              "      <th>NOx</th>\n",
              "      <th>NH3</th>\n",
              "      <th>CO</th>\n",
              "      <th>SO2</th>\n",
              "      <th>O3</th>\n",
              "      <th>AQI</th>\n",
              "      <th>BTX</th>\n",
              "      <th>Particulate_Matter</th>\n",
              "    </tr>\n",
              "    <tr>\n",
              "      <th>Date</th>\n",
              "      <th></th>\n",
              "      <th></th>\n",
              "      <th></th>\n",
              "      <th></th>\n",
              "      <th></th>\n",
              "      <th></th>\n",
              "      <th></th>\n",
              "      <th></th>\n",
              "      <th></th>\n",
              "      <th></th>\n",
              "      <th></th>\n",
              "      <th></th>\n",
              "    </tr>\n",
              "  </thead>\n",
              "  <tbody>\n",
              "    <tr>\n",
              "      <th>2015-12-31</th>\n",
              "      <td>81.776173</td>\n",
              "      <td>91.501922</td>\n",
              "      <td>17.911905</td>\n",
              "      <td>22.504498</td>\n",
              "      <td>35.628811</td>\n",
              "      <td>26.099350</td>\n",
              "      <td>4.286493</td>\n",
              "      <td>18.356471</td>\n",
              "      <td>33.085613</td>\n",
              "      <td>187.083844</td>\n",
              "      <td>17.682868</td>\n",
              "      <td>173.278095</td>\n",
              "    </tr>\n",
              "    <tr>\n",
              "      <th>2016-12-31</th>\n",
              "      <td>84.968854</td>\n",
              "      <td>99.907728</td>\n",
              "      <td>24.317513</td>\n",
              "      <td>29.202648</td>\n",
              "      <td>35.220849</td>\n",
              "      <td>30.239452</td>\n",
              "      <td>2.522507</td>\n",
              "      <td>20.650733</td>\n",
              "      <td>36.474317</td>\n",
              "      <td>191.992210</td>\n",
              "      <td>10.126846</td>\n",
              "      <td>184.876582</td>\n",
              "    </tr>\n",
              "    <tr>\n",
              "      <th>2017-12-31</th>\n",
              "      <td>80.541481</td>\n",
              "      <td>118.377288</td>\n",
              "      <td>28.567942</td>\n",
              "      <td>27.580553</td>\n",
              "      <td>27.557142</td>\n",
              "      <td>25.976609</td>\n",
              "      <td>7.790658</td>\n",
              "      <td>26.771535</td>\n",
              "      <td>30.577414</td>\n",
              "      <td>170.070007</td>\n",
              "      <td>7.948030</td>\n",
              "      <td>198.918769</td>\n",
              "    </tr>\n",
              "    <tr>\n",
              "      <th>2018-12-31</th>\n",
              "      <td>72.761351</td>\n",
              "      <td>122.484772</td>\n",
              "      <td>20.616362</td>\n",
              "      <td>31.851285</td>\n",
              "      <td>37.808497</td>\n",
              "      <td>22.395433</td>\n",
              "      <td>2.911844</td>\n",
              "      <td>20.556934</td>\n",
              "      <td>34.751805</td>\n",
              "      <td>177.529050</td>\n",
              "      <td>15.314238</td>\n",
              "      <td>195.246123</td>\n",
              "    </tr>\n",
              "    <tr>\n",
              "      <th>2019-12-31</th>\n",
              "      <td>57.933985</td>\n",
              "      <td>109.575359</td>\n",
              "      <td>16.366049</td>\n",
              "      <td>27.951419</td>\n",
              "      <td>34.988116</td>\n",
              "      <td>21.182808</td>\n",
              "      <td>2.248677</td>\n",
              "      <td>16.464237</td>\n",
              "      <td>32.955880</td>\n",
              "      <td>154.083732</td>\n",
              "      <td>16.662690</td>\n",
              "      <td>167.509344</td>\n",
              "    </tr>\n",
              "    <tr>\n",
              "      <th>2020-12-31</th>\n",
              "      <td>44.022224</td>\n",
              "      <td>88.719509</td>\n",
              "      <td>20.102992</td>\n",
              "      <td>20.105252</td>\n",
              "      <td>31.192141</td>\n",
              "      <td>19.474975</td>\n",
              "      <td>1.162785</td>\n",
              "      <td>11.991988</td>\n",
              "      <td>34.089738</td>\n",
              "      <td>113.006141</td>\n",
              "      <td>16.972611</td>\n",
              "      <td>132.741734</td>\n",
              "    </tr>\n",
              "  </tbody>\n",
              "</table>\n",
              "</div>"
            ],
            "text/plain": [
              "                PM2.5        PM10  ...        BTX  Particulate_Matter\n",
              "Date                               ...                               \n",
              "2015-12-31  81.776173   91.501922  ...  17.682868          173.278095\n",
              "2016-12-31  84.968854   99.907728  ...  10.126846          184.876582\n",
              "2017-12-31  80.541481  118.377288  ...   7.948030          198.918769\n",
              "2018-12-31  72.761351  122.484772  ...  15.314238          195.246123\n",
              "2019-12-31  57.933985  109.575359  ...  16.662690          167.509344\n",
              "2020-12-31  44.022224   88.719509  ...  16.972611          132.741734\n",
              "\n",
              "[6 rows x 12 columns]"
            ]
          },
          "metadata": {
            "tags": []
          },
          "execution_count": 34
        }
      ]
    },
    {
      "cell_type": "markdown",
      "metadata": {
        "id": "uaMfMYXfqLxV"
      },
      "source": [
        "## Visualizing the average AQI form the year 2015 to 2020"
      ]
    },
    {
      "cell_type": "code",
      "metadata": {
        "colab": {
          "base_uri": "https://localhost:8080/",
          "height": 416
        },
        "id": "lDKJERGBqLxV",
        "outputId": "7f9efbbb-7a4e-45eb-bd0e-2cf976f4e06c"
      },
      "source": [
        "plt.figure(figsize=(12, 6))\n",
        "plt.xlabel(\"Year\")\n",
        "sns.barplot(x = yearly_data_df.index,y = \"AQI\", data = yearly_data_df)"
      ],
      "execution_count": 35,
      "outputs": [
        {
          "output_type": "execute_result",
          "data": {
            "text/plain": [
              "<matplotlib.axes._subplots.AxesSubplot at 0x7f7cefe96518>"
            ]
          },
          "metadata": {
            "tags": []
          },
          "execution_count": 35
        },
        {
          "output_type": "display_data",
          "data": {
            "image/png": "[encoded data removed]",
            "text/plain": [
              "<Figure size 864x432 with 1 Axes>"
            ]
          },
          "metadata": {
            "tags": [],
            "needs_background": "light"
          }
        }
      ]
    },
    {
      "cell_type": "code",
      "metadata": {
        "colab": {
          "base_uri": "https://localhost:8080/",
          "height": 509
        },
        "id": "4N1Wdi2JqLxW",
        "outputId": "21c1d5a8-717c-48f9-b789-4e6247eda8c8"
      },
      "source": [
        "#Visualizing using a heatmap\n",
        "yearly_data_df.index = yearly_data_df.index.date\n",
        "yearly_data_df.index\n",
        "plt.figure(figsize=(12, 6))\n",
        "sns.heatmap(yearly_data_df, annot=True, cmap='Blues')"
      ],
      "execution_count": 36,
      "outputs": [
        {
          "output_type": "execute_result",
          "data": {
            "text/plain": [
              "<matplotlib.axes._subplots.AxesSubplot at 0x7f7cee74fd68>"
            ]
          },
          "metadata": {
            "tags": []
          },
          "execution_count": 36
        },
        {
          "output_type": "display_data",
          "data": {
            "image/png": "[encoded data removed]",
            "text/plain": [
              "<Figure size 864x432 with 2 Axes>"
            ]
          },
          "metadata": {
            "tags": [],
            "needs_background": "light"
          }
        }
      ]
    },
    {
      "cell_type": "markdown",
      "metadata": {
        "id": "V6YSTrK4qLxW"
      },
      "source": [
        "Let us save and upload our work to Jovian before continuing"
      ]
    },
    {
      "cell_type": "code",
      "metadata": {
        "id": "2NinafUzqLxW"
      },
      "source": [
        "import jovian"
      ],
      "execution_count": 37,
      "outputs": []
    },
    {
      "cell_type": "code",
      "metadata": {
        "colab": {
          "base_uri": "https://localhost:8080/",
          "height": 102
        },
        "id": "gPQVwUMxqLxW",
        "outputId": "06497e09-c09b-4b12-890c-57ad2755ca52"
      },
      "source": [
        "jovian.commit()"
      ],
      "execution_count": 38,
      "outputs": [
        {
          "output_type": "stream",
          "text": [
            "[jovian] Detected Colab notebook...\u001b[0m\n",
            "[jovian] Uploading colab notebook to Jovian...\u001b[0m\n",
            "[jovian] Capturing environment..\u001b[0m\n",
            "[jovian] Committed successfully! https://jovian.ai/thechandramohan01/air-quality-data-in-india\u001b[0m\n"
          ],
          "name": "stdout"
        },
        {
          "output_type": "execute_result",
          "data": {
            "application/vnd.google.colaboratory.intrinsic+json": {
              "type": "string"
            },
            "text/plain": [
              "'https://jovian.ai/thechandramohan01/air-quality-data-in-india'"
            ]
          },
          "metadata": {
            "tags": []
          },
          "execution_count": 38
        }
      ]
    },
    {
      "cell_type": "markdown",
      "metadata": {
        "id": "repxNrIWqLxX"
      },
      "source": [
        "## Extracting only the Bengaluru data from the dataset\n",
        "\n"
      ]
    },
    {
      "cell_type": "code",
      "metadata": {
        "colab": {
          "base_uri": "https://localhost:8080/",
          "height": 431
        },
        "id": "DYBXdSANqLxX",
        "outputId": "ca8510f9-1507-451b-9e53-3991f8d9e588"
      },
      "source": [
        "#Analysing the AQI in Bengaluru City\n",
        "Bengaluru_Data = air_pollution_df1.loc[air_pollution_df1['City'] == \"Bengaluru\"]\n",
        "Bengaluru_Data"
      ],
      "execution_count": 39,
      "outputs": [
        {
          "output_type": "execute_result",
          "data": {
            "text/html": [
              "<div>\n",
              "<style scoped>\n",
              "    .dataframe tbody tr th:only-of-type {\n",
              "        vertical-align: middle;\n",
              "    }\n",
              "\n",
              "    .dataframe tbody tr th {\n",
              "        vertical-align: top;\n",
              "    }\n",
              "\n",
              "    .dataframe thead th {\n",
              "        text-align: right;\n",
              "    }\n",
              "</style>\n",
              "<table border=\"1\" class=\"dataframe\">\n",
              "  <thead>\n",
              "    <tr style=\"text-align: right;\">\n",
              "      <th></th>\n",
              "      <th>City</th>\n",
              "      <th>PM2.5</th>\n",
              "      <th>PM10</th>\n",
              "      <th>NO</th>\n",
              "      <th>NO2</th>\n",
              "      <th>NOx</th>\n",
              "      <th>NH3</th>\n",
              "      <th>CO</th>\n",
              "      <th>SO2</th>\n",
              "      <th>O3</th>\n",
              "      <th>AQI</th>\n",
              "      <th>AQI_Bucket</th>\n",
              "      <th>BTX</th>\n",
              "      <th>Particulate_Matter</th>\n",
              "    </tr>\n",
              "    <tr>\n",
              "      <th>Date</th>\n",
              "      <th></th>\n",
              "      <th></th>\n",
              "      <th></th>\n",
              "      <th></th>\n",
              "      <th></th>\n",
              "      <th></th>\n",
              "      <th></th>\n",
              "      <th></th>\n",
              "      <th></th>\n",
              "      <th></th>\n",
              "      <th></th>\n",
              "      <th></th>\n",
              "      <th></th>\n",
              "      <th></th>\n",
              "    </tr>\n",
              "  </thead>\n",
              "  <tbody>\n",
              "    <tr>\n",
              "      <th>2015-01-01</th>\n",
              "      <td>Bengaluru</td>\n",
              "      <td>57.327975</td>\n",
              "      <td>100.891833</td>\n",
              "      <td>3.26</td>\n",
              "      <td>17.33</td>\n",
              "      <td>10.88</td>\n",
              "      <td>20.36</td>\n",
              "      <td>0.33</td>\n",
              "      <td>3.54</td>\n",
              "      <td>10.73</td>\n",
              "      <td>78.1625</td>\n",
              "      <td>Nill</td>\n",
              "      <td>14.018557</td>\n",
              "      <td>158.219807</td>\n",
              "    </tr>\n",
              "    <tr>\n",
              "      <th>2015-01-02</th>\n",
              "      <td>Bengaluru</td>\n",
              "      <td>56.985949</td>\n",
              "      <td>100.793666</td>\n",
              "      <td>6.05</td>\n",
              "      <td>19.73</td>\n",
              "      <td>14.14</td>\n",
              "      <td>23.74</td>\n",
              "      <td>1.35</td>\n",
              "      <td>3.97</td>\n",
              "      <td>22.77</td>\n",
              "      <td>78.3250</td>\n",
              "      <td>Nill</td>\n",
              "      <td>14.777115</td>\n",
              "      <td>157.779615</td>\n",
              "    </tr>\n",
              "    <tr>\n",
              "      <th>2015-01-03</th>\n",
              "      <td>Bengaluru</td>\n",
              "      <td>56.643924</td>\n",
              "      <td>100.695498</td>\n",
              "      <td>11.91</td>\n",
              "      <td>19.88</td>\n",
              "      <td>20.72</td>\n",
              "      <td>4.32</td>\n",
              "      <td>17.40</td>\n",
              "      <td>13.61</td>\n",
              "      <td>12.03</td>\n",
              "      <td>78.4875</td>\n",
              "      <td>Nill</td>\n",
              "      <td>28.595672</td>\n",
              "      <td>157.339422</td>\n",
              "    </tr>\n",
              "    <tr>\n",
              "      <th>2015-01-04</th>\n",
              "      <td>Bengaluru</td>\n",
              "      <td>56.301899</td>\n",
              "      <td>100.597331</td>\n",
              "      <td>7.45</td>\n",
              "      <td>21.61</td>\n",
              "      <td>16.88</td>\n",
              "      <td>0.87</td>\n",
              "      <td>5.05</td>\n",
              "      <td>6.52</td>\n",
              "      <td>17.70</td>\n",
              "      <td>78.6500</td>\n",
              "      <td>Nill</td>\n",
              "      <td>16.834229</td>\n",
              "      <td>156.899230</td>\n",
              "    </tr>\n",
              "    <tr>\n",
              "      <th>2015-01-05</th>\n",
              "      <td>Bengaluru</td>\n",
              "      <td>55.959873</td>\n",
              "      <td>100.499164</td>\n",
              "      <td>9.52</td>\n",
              "      <td>22.17</td>\n",
              "      <td>21.76</td>\n",
              "      <td>31.38</td>\n",
              "      <td>1.83</td>\n",
              "      <td>4.71</td>\n",
              "      <td>12.72</td>\n",
              "      <td>78.8125</td>\n",
              "      <td>Nill</td>\n",
              "      <td>13.572787</td>\n",
              "      <td>156.459037</td>\n",
              "    </tr>\n",
              "    <tr>\n",
              "      <th>...</th>\n",
              "      <td>...</td>\n",
              "      <td>...</td>\n",
              "      <td>...</td>\n",
              "      <td>...</td>\n",
              "      <td>...</td>\n",
              "      <td>...</td>\n",
              "      <td>...</td>\n",
              "      <td>...</td>\n",
              "      <td>...</td>\n",
              "      <td>...</td>\n",
              "      <td>...</td>\n",
              "      <td>...</td>\n",
              "      <td>...</td>\n",
              "      <td>...</td>\n",
              "    </tr>\n",
              "    <tr>\n",
              "      <th>2020-06-27</th>\n",
              "      <td>Bengaluru</td>\n",
              "      <td>16.600000</td>\n",
              "      <td>29.480000</td>\n",
              "      <td>3.06</td>\n",
              "      <td>13.68</td>\n",
              "      <td>13.07</td>\n",
              "      <td>6.88</td>\n",
              "      <td>0.67</td>\n",
              "      <td>7.29</td>\n",
              "      <td>15.69</td>\n",
              "      <td>51.0000</td>\n",
              "      <td>Satisfactory</td>\n",
              "      <td>7.317399</td>\n",
              "      <td>46.080000</td>\n",
              "    </tr>\n",
              "    <tr>\n",
              "      <th>2020-06-28</th>\n",
              "      <td>Bengaluru</td>\n",
              "      <td>20.440000</td>\n",
              "      <td>26.340000</td>\n",
              "      <td>2.69</td>\n",
              "      <td>10.33</td>\n",
              "      <td>10.58</td>\n",
              "      <td>6.58</td>\n",
              "      <td>0.66</td>\n",
              "      <td>6.60</td>\n",
              "      <td>17.59</td>\n",
              "      <td>61.0000</td>\n",
              "      <td>Satisfactory</td>\n",
              "      <td>6.985956</td>\n",
              "      <td>46.780000</td>\n",
              "    </tr>\n",
              "    <tr>\n",
              "      <th>2020-06-29</th>\n",
              "      <td>Bengaluru</td>\n",
              "      <td>28.680000</td>\n",
              "      <td>29.270000</td>\n",
              "      <td>3.62</td>\n",
              "      <td>12.12</td>\n",
              "      <td>12.94</td>\n",
              "      <td>6.80</td>\n",
              "      <td>0.56</td>\n",
              "      <td>6.33</td>\n",
              "      <td>16.99</td>\n",
              "      <td>65.0000</td>\n",
              "      <td>Satisfactory</td>\n",
              "      <td>7.264513</td>\n",
              "      <td>57.950000</td>\n",
              "    </tr>\n",
              "    <tr>\n",
              "      <th>2020-06-30</th>\n",
              "      <td>Bengaluru</td>\n",
              "      <td>14.470000</td>\n",
              "      <td>24.260000</td>\n",
              "      <td>4.61</td>\n",
              "      <td>12.69</td>\n",
              "      <td>15.00</td>\n",
              "      <td>6.82</td>\n",
              "      <td>0.56</td>\n",
              "      <td>6.45</td>\n",
              "      <td>16.08</td>\n",
              "      <td>63.0000</td>\n",
              "      <td>Satisfactory</td>\n",
              "      <td>6.963071</td>\n",
              "      <td>38.730000</td>\n",
              "    </tr>\n",
              "    <tr>\n",
              "      <th>2020-07-01</th>\n",
              "      <td>Bengaluru</td>\n",
              "      <td>17.500000</td>\n",
              "      <td>30.480000</td>\n",
              "      <td>3.95</td>\n",
              "      <td>13.25</td>\n",
              "      <td>14.83</td>\n",
              "      <td>7.42</td>\n",
              "      <td>0.54</td>\n",
              "      <td>6.66</td>\n",
              "      <td>15.40</td>\n",
              "      <td>43.0000</td>\n",
              "      <td>Good</td>\n",
              "      <td>6.841628</td>\n",
              "      <td>47.980000</td>\n",
              "    </tr>\n",
              "  </tbody>\n",
              "</table>\n",
              "<p>2009 rows × 14 columns</p>\n",
              "</div>"
            ],
            "text/plain": [
              "                 City      PM2.5  ...        BTX  Particulate_Matter\n",
              "Date                              ...                               \n",
              "2015-01-01  Bengaluru  57.327975  ...  14.018557          158.219807\n",
              "2015-01-02  Bengaluru  56.985949  ...  14.777115          157.779615\n",
              "2015-01-03  Bengaluru  56.643924  ...  28.595672          157.339422\n",
              "2015-01-04  Bengaluru  56.301899  ...  16.834229          156.899230\n",
              "2015-01-05  Bengaluru  55.959873  ...  13.572787          156.459037\n",
              "...               ...        ...  ...        ...                 ...\n",
              "2020-06-27  Bengaluru  16.600000  ...   7.317399           46.080000\n",
              "2020-06-28  Bengaluru  20.440000  ...   6.985956           46.780000\n",
              "2020-06-29  Bengaluru  28.680000  ...   7.264513           57.950000\n",
              "2020-06-30  Bengaluru  14.470000  ...   6.963071           38.730000\n",
              "2020-07-01  Bengaluru  17.500000  ...   6.841628           47.980000\n",
              "\n",
              "[2009 rows x 14 columns]"
            ]
          },
          "metadata": {
            "tags": []
          },
          "execution_count": 39
        }
      ]
    },
    {
      "cell_type": "markdown",
      "metadata": {
        "id": "fRk-7UZlqLxX"
      },
      "source": [
        "## Updating the missing values by considering only the AQI value from the above table."
      ]
    },
    {
      "cell_type": "code",
      "metadata": {
        "colab": {
          "base_uri": "https://localhost:8080/",
          "height": 532
        },
        "id": "ZRJKDZOXqLxY",
        "outputId": "818fe48b-d389-4823-b52c-ff16313a5585"
      },
      "source": [
        "#Updating the missing values of AQU_Bucket column.\n",
        "for index,city in Bengaluru_Data.iterrows():\n",
        "    if city.AQI_Bucket == \"Nill\":\n",
        "        if 0 <= city.AQI  <= 50:\n",
        "            Bengaluru_Data.loc[index, 'AQI_Bucket'] = \"Good\"\n",
        "        if 50 < city.AQI  <= 100:\n",
        "            Bengaluru_Data.loc[index, 'AQI_Bucket'] = \"Satisfactory\"\n",
        "        if 100 < city.AQI  <= 200:\n",
        "            Bengaluru_Data.loc[index, 'AQI_Bucket'] = \"Moderate\"\n",
        "        if 200 < city.AQI <= 300:\n",
        "            Bengaluru_Data.loc[index, 'AQI_Bucket'] = \"Poor\"\n",
        "        if 300 < city.AQI  <= 400:\n",
        "            Bengaluru_Data.loc[index, 'AQI_Bucket'] = \"Very Poor\"\n",
        "        if city.AQI > 400:\n",
        "            Bengaluru_Data.loc[index, 'AQI_Bucket'] = \"Severe\"\n",
        "Bengaluru_Data\n",
        "\n",
        "# https://stackoverflow.com/questions/25478528/updating-value-in-iterrow-for-pandas"
      ],
      "execution_count": 40,
      "outputs": [
        {
          "output_type": "stream",
          "text": [
            "/usr/local/lib/python3.6/dist-packages/pandas/core/indexing.py:1763: SettingWithCopyWarning: \n",
            "A value is trying to be set on a copy of a slice from a DataFrame.\n",
            "Try using .loc[row_indexer,col_indexer] = value instead\n",
            "\n",
            "See the caveats in the documentation: https://pandas.pydata.org/pandas-docs/stable/user_guide/indexing.html#returning-a-view-versus-a-copy\n",
            "  isetter(loc, value)\n"
          ],
          "name": "stderr"
        },
        {
          "output_type": "execute_result",
          "data": {
            "text/html": [
              "<div>\n",
              "<style scoped>\n",
              "    .dataframe tbody tr th:only-of-type {\n",
              "        vertical-align: middle;\n",
              "    }\n",
              "\n",
              "    .dataframe tbody tr th {\n",
              "        vertical-align: top;\n",
              "    }\n",
              "\n",
              "    .dataframe thead th {\n",
              "        text-align: right;\n",
              "    }\n",
              "</style>\n",
              "<table border=\"1\" class=\"dataframe\">\n",
              "  <thead>\n",
              "    <tr style=\"text-align: right;\">\n",
              "      <th></th>\n",
              "      <th>City</th>\n",
              "      <th>PM2.5</th>\n",
              "      <th>PM10</th>\n",
              "      <th>NO</th>\n",
              "      <th>NO2</th>\n",
              "      <th>NOx</th>\n",
              "      <th>NH3</th>\n",
              "      <th>CO</th>\n",
              "      <th>SO2</th>\n",
              "      <th>O3</th>\n",
              "      <th>AQI</th>\n",
              "      <th>AQI_Bucket</th>\n",
              "      <th>BTX</th>\n",
              "      <th>Particulate_Matter</th>\n",
              "    </tr>\n",
              "    <tr>\n",
              "      <th>Date</th>\n",
              "      <th></th>\n",
              "      <th></th>\n",
              "      <th></th>\n",
              "      <th></th>\n",
              "      <th></th>\n",
              "      <th></th>\n",
              "      <th></th>\n",
              "      <th></th>\n",
              "      <th></th>\n",
              "      <th></th>\n",
              "      <th></th>\n",
              "      <th></th>\n",
              "      <th></th>\n",
              "      <th></th>\n",
              "    </tr>\n",
              "  </thead>\n",
              "  <tbody>\n",
              "    <tr>\n",
              "      <th>2015-01-01</th>\n",
              "      <td>Bengaluru</td>\n",
              "      <td>57.327975</td>\n",
              "      <td>100.891833</td>\n",
              "      <td>3.26</td>\n",
              "      <td>17.33</td>\n",
              "      <td>10.88</td>\n",
              "      <td>20.36</td>\n",
              "      <td>0.33</td>\n",
              "      <td>3.54</td>\n",
              "      <td>10.73</td>\n",
              "      <td>78.1625</td>\n",
              "      <td>Satisfactory</td>\n",
              "      <td>14.018557</td>\n",
              "      <td>158.219807</td>\n",
              "    </tr>\n",
              "    <tr>\n",
              "      <th>2015-01-02</th>\n",
              "      <td>Bengaluru</td>\n",
              "      <td>56.985949</td>\n",
              "      <td>100.793666</td>\n",
              "      <td>6.05</td>\n",
              "      <td>19.73</td>\n",
              "      <td>14.14</td>\n",
              "      <td>23.74</td>\n",
              "      <td>1.35</td>\n",
              "      <td>3.97</td>\n",
              "      <td>22.77</td>\n",
              "      <td>78.3250</td>\n",
              "      <td>Satisfactory</td>\n",
              "      <td>14.777115</td>\n",
              "      <td>157.779615</td>\n",
              "    </tr>\n",
              "    <tr>\n",
              "      <th>2015-01-03</th>\n",
              "      <td>Bengaluru</td>\n",
              "      <td>56.643924</td>\n",
              "      <td>100.695498</td>\n",
              "      <td>11.91</td>\n",
              "      <td>19.88</td>\n",
              "      <td>20.72</td>\n",
              "      <td>4.32</td>\n",
              "      <td>17.40</td>\n",
              "      <td>13.61</td>\n",
              "      <td>12.03</td>\n",
              "      <td>78.4875</td>\n",
              "      <td>Satisfactory</td>\n",
              "      <td>28.595672</td>\n",
              "      <td>157.339422</td>\n",
              "    </tr>\n",
              "    <tr>\n",
              "      <th>2015-01-04</th>\n",
              "      <td>Bengaluru</td>\n",
              "      <td>56.301899</td>\n",
              "      <td>100.597331</td>\n",
              "      <td>7.45</td>\n",
              "      <td>21.61</td>\n",
              "      <td>16.88</td>\n",
              "      <td>0.87</td>\n",
              "      <td>5.05</td>\n",
              "      <td>6.52</td>\n",
              "      <td>17.70</td>\n",
              "      <td>78.6500</td>\n",
              "      <td>Satisfactory</td>\n",
              "      <td>16.834229</td>\n",
              "      <td>156.899230</td>\n",
              "    </tr>\n",
              "    <tr>\n",
              "      <th>2015-01-05</th>\n",
              "      <td>Bengaluru</td>\n",
              "      <td>55.959873</td>\n",
              "      <td>100.499164</td>\n",
              "      <td>9.52</td>\n",
              "      <td>22.17</td>\n",
              "      <td>21.76</td>\n",
              "      <td>31.38</td>\n",
              "      <td>1.83</td>\n",
              "      <td>4.71</td>\n",
              "      <td>12.72</td>\n",
              "      <td>78.8125</td>\n",
              "      <td>Satisfactory</td>\n",
              "      <td>13.572787</td>\n",
              "      <td>156.459037</td>\n",
              "    </tr>\n",
              "    <tr>\n",
              "      <th>...</th>\n",
              "      <td>...</td>\n",
              "      <td>...</td>\n",
              "      <td>...</td>\n",
              "      <td>...</td>\n",
              "      <td>...</td>\n",
              "      <td>...</td>\n",
              "      <td>...</td>\n",
              "      <td>...</td>\n",
              "      <td>...</td>\n",
              "      <td>...</td>\n",
              "      <td>...</td>\n",
              "      <td>...</td>\n",
              "      <td>...</td>\n",
              "      <td>...</td>\n",
              "    </tr>\n",
              "    <tr>\n",
              "      <th>2020-06-27</th>\n",
              "      <td>Bengaluru</td>\n",
              "      <td>16.600000</td>\n",
              "      <td>29.480000</td>\n",
              "      <td>3.06</td>\n",
              "      <td>13.68</td>\n",
              "      <td>13.07</td>\n",
              "      <td>6.88</td>\n",
              "      <td>0.67</td>\n",
              "      <td>7.29</td>\n",
              "      <td>15.69</td>\n",
              "      <td>51.0000</td>\n",
              "      <td>Satisfactory</td>\n",
              "      <td>7.317399</td>\n",
              "      <td>46.080000</td>\n",
              "    </tr>\n",
              "    <tr>\n",
              "      <th>2020-06-28</th>\n",
              "      <td>Bengaluru</td>\n",
              "      <td>20.440000</td>\n",
              "      <td>26.340000</td>\n",
              "      <td>2.69</td>\n",
              "      <td>10.33</td>\n",
              "      <td>10.58</td>\n",
              "      <td>6.58</td>\n",
              "      <td>0.66</td>\n",
              "      <td>6.60</td>\n",
              "      <td>17.59</td>\n",
              "      <td>61.0000</td>\n",
              "      <td>Satisfactory</td>\n",
              "      <td>6.985956</td>\n",
              "      <td>46.780000</td>\n",
              "    </tr>\n",
              "    <tr>\n",
              "      <th>2020-06-29</th>\n",
              "      <td>Bengaluru</td>\n",
              "      <td>28.680000</td>\n",
              "      <td>29.270000</td>\n",
              "      <td>3.62</td>\n",
              "      <td>12.12</td>\n",
              "      <td>12.94</td>\n",
              "      <td>6.80</td>\n",
              "      <td>0.56</td>\n",
              "      <td>6.33</td>\n",
              "      <td>16.99</td>\n",
              "      <td>65.0000</td>\n",
              "      <td>Satisfactory</td>\n",
              "      <td>7.264513</td>\n",
              "      <td>57.950000</td>\n",
              "    </tr>\n",
              "    <tr>\n",
              "      <th>2020-06-30</th>\n",
              "      <td>Bengaluru</td>\n",
              "      <td>14.470000</td>\n",
              "      <td>24.260000</td>\n",
              "      <td>4.61</td>\n",
              "      <td>12.69</td>\n",
              "      <td>15.00</td>\n",
              "      <td>6.82</td>\n",
              "      <td>0.56</td>\n",
              "      <td>6.45</td>\n",
              "      <td>16.08</td>\n",
              "      <td>63.0000</td>\n",
              "      <td>Satisfactory</td>\n",
              "      <td>6.963071</td>\n",
              "      <td>38.730000</td>\n",
              "    </tr>\n",
              "    <tr>\n",
              "      <th>2020-07-01</th>\n",
              "      <td>Bengaluru</td>\n",
              "      <td>17.500000</td>\n",
              "      <td>30.480000</td>\n",
              "      <td>3.95</td>\n",
              "      <td>13.25</td>\n",
              "      <td>14.83</td>\n",
              "      <td>7.42</td>\n",
              "      <td>0.54</td>\n",
              "      <td>6.66</td>\n",
              "      <td>15.40</td>\n",
              "      <td>43.0000</td>\n",
              "      <td>Good</td>\n",
              "      <td>6.841628</td>\n",
              "      <td>47.980000</td>\n",
              "    </tr>\n",
              "  </tbody>\n",
              "</table>\n",
              "<p>2009 rows × 14 columns</p>\n",
              "</div>"
            ],
            "text/plain": [
              "                 City      PM2.5  ...        BTX  Particulate_Matter\n",
              "Date                              ...                               \n",
              "2015-01-01  Bengaluru  57.327975  ...  14.018557          158.219807\n",
              "2015-01-02  Bengaluru  56.985949  ...  14.777115          157.779615\n",
              "2015-01-03  Bengaluru  56.643924  ...  28.595672          157.339422\n",
              "2015-01-04  Bengaluru  56.301899  ...  16.834229          156.899230\n",
              "2015-01-05  Bengaluru  55.959873  ...  13.572787          156.459037\n",
              "...               ...        ...  ...        ...                 ...\n",
              "2020-06-27  Bengaluru  16.600000  ...   7.317399           46.080000\n",
              "2020-06-28  Bengaluru  20.440000  ...   6.985956           46.780000\n",
              "2020-06-29  Bengaluru  28.680000  ...   7.264513           57.950000\n",
              "2020-06-30  Bengaluru  14.470000  ...   6.963071           38.730000\n",
              "2020-07-01  Bengaluru  17.500000  ...   6.841628           47.980000\n",
              "\n",
              "[2009 rows x 14 columns]"
            ]
          },
          "metadata": {
            "tags": []
          },
          "execution_count": 40
        }
      ]
    },
    {
      "cell_type": "markdown",
      "metadata": {
        "id": "TLG9PoB7qLxY"
      },
      "source": [
        "#### 4.Visualize the AQI_category in Bengaluru data using counterplot ?"
      ]
    },
    {
      "cell_type": "code",
      "metadata": {
        "colab": {
          "base_uri": "https://localhost:8080/",
          "height": 413
        },
        "id": "LoA64wRZqLxY",
        "outputId": "c0270bf2-b5af-4c58-d06b-5bee52bc4c13"
      },
      "source": [
        "plt.figure(figsize=(12, 6))\n",
        "sns.countplot(x = 'AQI_Bucket', data = Bengaluru_Data)"
      ],
      "execution_count": 41,
      "outputs": [
        {
          "output_type": "execute_result",
          "data": {
            "text/plain": [
              "<matplotlib.axes._subplots.AxesSubplot at 0x7f7cee7b6470>"
            ]
          },
          "metadata": {
            "tags": []
          },
          "execution_count": 41
        },
        {
          "output_type": "display_data",
          "data": {
            "image/png": "[encoded data removed]",
            "text/plain": [
              "<Figure size 864x432 with 1 Axes>"
            ]
          },
          "metadata": {
            "tags": [],
            "needs_background": "light"
          }
        }
      ]
    },
    {
      "cell_type": "markdown",
      "metadata": {
        "id": "c8a_w0JOqLxZ"
      },
      "source": [
        "#### 5.Visualize the carbon monoxide pollutant in Bangalore"
      ]
    },
    {
      "cell_type": "code",
      "metadata": {
        "colab": {
          "base_uri": "https://localhost:8080/",
          "height": 416
        },
        "id": "Gu8NWagIqLxZ",
        "outputId": "18be5022-7ceb-4a27-a317-68863d03982e"
      },
      "source": [
        "plt.figure(figsize=(12, 6))\n",
        "sns.scatterplot(x = Bengaluru_Data.index,y = Bengaluru_Data.CO)"
      ],
      "execution_count": 42,
      "outputs": [
        {
          "output_type": "execute_result",
          "data": {
            "text/plain": [
              "<matplotlib.axes._subplots.AxesSubplot at 0x7f7cee73e7f0>"
            ]
          },
          "metadata": {
            "tags": []
          },
          "execution_count": 42
        },
        {
          "output_type": "display_data",
          "data": {
            "image/png": "[encoded data removed]",
            "text/plain": [
              "<Figure size 864x432 with 1 Axes>"
            ]
          },
          "metadata": {
            "tags": [],
            "needs_background": "light"
          }
        }
      ]
    },
    {
      "cell_type": "markdown",
      "metadata": {
        "id": "uzaIA12KqLxZ"
      },
      "source": [
        "### Extracting Monthly data of Bangalore city."
      ]
    },
    {
      "cell_type": "code",
      "metadata": {
        "colab": {
          "base_uri": "https://localhost:8080/",
          "height": 431
        },
        "id": "WqjRVmmRqLxa",
        "outputId": "8e73e016-0051-43c9-d7a4-e22de12b3e62"
      },
      "source": [
        "Bengaluru_Monthly = Bengaluru_Data.resample('1M').mean()\n",
        "Bengaluru_Monthly"
      ],
      "execution_count": 43,
      "outputs": [
        {
          "output_type": "execute_result",
          "data": {
            "text/html": [
              "<div>\n",
              "<style scoped>\n",
              "    .dataframe tbody tr th:only-of-type {\n",
              "        vertical-align: middle;\n",
              "    }\n",
              "\n",
              "    .dataframe tbody tr th {\n",
              "        vertical-align: top;\n",
              "    }\n",
              "\n",
              "    .dataframe thead th {\n",
              "        text-align: right;\n",
              "    }\n",
              "</style>\n",
              "<table border=\"1\" class=\"dataframe\">\n",
              "  <thead>\n",
              "    <tr style=\"text-align: right;\">\n",
              "      <th></th>\n",
              "      <th>PM2.5</th>\n",
              "      <th>PM10</th>\n",
              "      <th>NO</th>\n",
              "      <th>NO2</th>\n",
              "      <th>NOx</th>\n",
              "      <th>NH3</th>\n",
              "      <th>CO</th>\n",
              "      <th>SO2</th>\n",
              "      <th>O3</th>\n",
              "      <th>AQI</th>\n",
              "      <th>BTX</th>\n",
              "      <th>Particulate_Matter</th>\n",
              "    </tr>\n",
              "    <tr>\n",
              "      <th>Date</th>\n",
              "      <th></th>\n",
              "      <th></th>\n",
              "      <th></th>\n",
              "      <th></th>\n",
              "      <th></th>\n",
              "      <th></th>\n",
              "      <th></th>\n",
              "      <th></th>\n",
              "      <th></th>\n",
              "      <th></th>\n",
              "      <th></th>\n",
              "      <th></th>\n",
              "    </tr>\n",
              "  </thead>\n",
              "  <tbody>\n",
              "    <tr>\n",
              "      <th>2015-01-31</th>\n",
              "      <td>52.197595</td>\n",
              "      <td>99.419325</td>\n",
              "      <td>13.241935</td>\n",
              "      <td>18.956774</td>\n",
              "      <td>20.400968</td>\n",
              "      <td>18.968387</td>\n",
              "      <td>4.619677</td>\n",
              "      <td>17.240968</td>\n",
              "      <td>23.054032</td>\n",
              "      <td>80.600000</td>\n",
              "      <td>44.618046</td>\n",
              "      <td>151.616920</td>\n",
              "    </tr>\n",
              "    <tr>\n",
              "      <th>2015-02-28</th>\n",
              "      <td>42.107848</td>\n",
              "      <td>96.523392</td>\n",
              "      <td>8.996071</td>\n",
              "      <td>24.082143</td>\n",
              "      <td>18.245000</td>\n",
              "      <td>14.563929</td>\n",
              "      <td>2.349643</td>\n",
              "      <td>7.397143</td>\n",
              "      <td>37.042857</td>\n",
              "      <td>85.393750</td>\n",
              "      <td>71.314715</td>\n",
              "      <td>138.631240</td>\n",
              "    </tr>\n",
              "    <tr>\n",
              "      <th>2015-03-31</th>\n",
              "      <td>38.948220</td>\n",
              "      <td>93.627460</td>\n",
              "      <td>7.197419</td>\n",
              "      <td>21.943226</td>\n",
              "      <td>17.754516</td>\n",
              "      <td>21.133871</td>\n",
              "      <td>10.910323</td>\n",
              "      <td>8.776129</td>\n",
              "      <td>50.837742</td>\n",
              "      <td>103.931452</td>\n",
              "      <td>187.155185</td>\n",
              "      <td>132.575679</td>\n",
              "    </tr>\n",
              "    <tr>\n",
              "      <th>2015-04-30</th>\n",
              "      <td>28.666000</td>\n",
              "      <td>90.633360</td>\n",
              "      <td>3.894333</td>\n",
              "      <td>8.882000</td>\n",
              "      <td>10.627000</td>\n",
              "      <td>23.616000</td>\n",
              "      <td>3.783000</td>\n",
              "      <td>8.305667</td>\n",
              "      <td>63.819667</td>\n",
              "      <td>113.733333</td>\n",
              "      <td>22.956296</td>\n",
              "      <td>119.299360</td>\n",
              "    </tr>\n",
              "    <tr>\n",
              "      <th>2015-05-31</th>\n",
              "      <td>33.549032</td>\n",
              "      <td>87.639260</td>\n",
              "      <td>5.837419</td>\n",
              "      <td>22.296129</td>\n",
              "      <td>13.743226</td>\n",
              "      <td>11.866774</td>\n",
              "      <td>5.320645</td>\n",
              "      <td>5.268710</td>\n",
              "      <td>29.431613</td>\n",
              "      <td>102.774194</td>\n",
              "      <td>23.946052</td>\n",
              "      <td>121.188293</td>\n",
              "    </tr>\n",
              "    <tr>\n",
              "      <th>...</th>\n",
              "      <td>...</td>\n",
              "      <td>...</td>\n",
              "      <td>...</td>\n",
              "      <td>...</td>\n",
              "      <td>...</td>\n",
              "      <td>...</td>\n",
              "      <td>...</td>\n",
              "      <td>...</td>\n",
              "      <td>...</td>\n",
              "      <td>...</td>\n",
              "      <td>...</td>\n",
              "      <td>...</td>\n",
              "    </tr>\n",
              "    <tr>\n",
              "      <th>2020-03-31</th>\n",
              "      <td>38.193226</td>\n",
              "      <td>79.966452</td>\n",
              "      <td>4.790968</td>\n",
              "      <td>21.364194</td>\n",
              "      <td>23.149032</td>\n",
              "      <td>12.523226</td>\n",
              "      <td>0.943226</td>\n",
              "      <td>6.867097</td>\n",
              "      <td>44.945484</td>\n",
              "      <td>90.741935</td>\n",
              "      <td>7.948900</td>\n",
              "      <td>118.159677</td>\n",
              "    </tr>\n",
              "    <tr>\n",
              "      <th>2020-04-30</th>\n",
              "      <td>24.931667</td>\n",
              "      <td>46.863000</td>\n",
              "      <td>2.886667</td>\n",
              "      <td>11.981000</td>\n",
              "      <td>13.224333</td>\n",
              "      <td>10.953000</td>\n",
              "      <td>0.724000</td>\n",
              "      <td>5.991000</td>\n",
              "      <td>40.517333</td>\n",
              "      <td>68.533333</td>\n",
              "      <td>11.302327</td>\n",
              "      <td>71.794667</td>\n",
              "    </tr>\n",
              "    <tr>\n",
              "      <th>2020-05-31</th>\n",
              "      <td>21.269677</td>\n",
              "      <td>59.758710</td>\n",
              "      <td>3.706774</td>\n",
              "      <td>15.389032</td>\n",
              "      <td>15.594194</td>\n",
              "      <td>8.918065</td>\n",
              "      <td>0.780000</td>\n",
              "      <td>6.478065</td>\n",
              "      <td>32.435806</td>\n",
              "      <td>73.161290</td>\n",
              "      <td>7.936702</td>\n",
              "      <td>81.028387</td>\n",
              "    </tr>\n",
              "    <tr>\n",
              "      <th>2020-06-30</th>\n",
              "      <td>18.035333</td>\n",
              "      <td>41.063000</td>\n",
              "      <td>4.894000</td>\n",
              "      <td>13.730333</td>\n",
              "      <td>15.115000</td>\n",
              "      <td>6.261667</td>\n",
              "      <td>0.628333</td>\n",
              "      <td>7.101667</td>\n",
              "      <td>16.244667</td>\n",
              "      <td>55.166667</td>\n",
              "      <td>8.429323</td>\n",
              "      <td>59.098333</td>\n",
              "    </tr>\n",
              "    <tr>\n",
              "      <th>2020-07-31</th>\n",
              "      <td>17.500000</td>\n",
              "      <td>30.480000</td>\n",
              "      <td>3.950000</td>\n",
              "      <td>13.250000</td>\n",
              "      <td>14.830000</td>\n",
              "      <td>7.420000</td>\n",
              "      <td>0.540000</td>\n",
              "      <td>6.660000</td>\n",
              "      <td>15.400000</td>\n",
              "      <td>43.000000</td>\n",
              "      <td>6.841628</td>\n",
              "      <td>47.980000</td>\n",
              "    </tr>\n",
              "  </tbody>\n",
              "</table>\n",
              "<p>67 rows × 12 columns</p>\n",
              "</div>"
            ],
            "text/plain": [
              "                PM2.5       PM10  ...         BTX  Particulate_Matter\n",
              "Date                              ...                                \n",
              "2015-01-31  52.197595  99.419325  ...   44.618046          151.616920\n",
              "2015-02-28  42.107848  96.523392  ...   71.314715          138.631240\n",
              "2015-03-31  38.948220  93.627460  ...  187.155185          132.575679\n",
              "2015-04-30  28.666000  90.633360  ...   22.956296          119.299360\n",
              "2015-05-31  33.549032  87.639260  ...   23.946052          121.188293\n",
              "...               ...        ...  ...         ...                 ...\n",
              "2020-03-31  38.193226  79.966452  ...    7.948900          118.159677\n",
              "2020-04-30  24.931667  46.863000  ...   11.302327           71.794667\n",
              "2020-05-31  21.269677  59.758710  ...    7.936702           81.028387\n",
              "2020-06-30  18.035333  41.063000  ...    8.429323           59.098333\n",
              "2020-07-31  17.500000  30.480000  ...    6.841628           47.980000\n",
              "\n",
              "[67 rows x 12 columns]"
            ]
          },
          "metadata": {
            "tags": []
          },
          "execution_count": 43
        }
      ]
    },
    {
      "cell_type": "markdown",
      "metadata": {
        "id": "Uvd5SjI7qLxa"
      },
      "source": [
        "#### 6.Visualize the AQI in Bangalore city using the Monthly data ?"
      ]
    },
    {
      "cell_type": "code",
      "metadata": {
        "colab": {
          "base_uri": "https://localhost:8080/",
          "height": 413
        },
        "id": "NV7w64gSqLxa",
        "outputId": "f051931e-6937-4be4-bd4b-2b7ac81aec45"
      },
      "source": [
        "plt.figure(figsize=(12, 6))\n",
        "plt.xlabel(\"Year\")\n",
        "sns.barplot(x = Bengaluru_Monthly.index.month,y = \"AQI\", data = Bengaluru_Monthly)"
      ],
      "execution_count": 44,
      "outputs": [
        {
          "output_type": "execute_result",
          "data": {
            "text/plain": [
              "<matplotlib.axes._subplots.AxesSubplot at 0x7f7ce4790978>"
            ]
          },
          "metadata": {
            "tags": []
          },
          "execution_count": 44
        },
        {
          "output_type": "display_data",
          "data": {
            "image/png": "[encoded data removed]",
            "text/plain": [
              "<Figure size 864x432 with 1 Axes>"
            ]
          },
          "metadata": {
            "tags": [],
            "needs_background": "light"
          }
        }
      ]
    },
    {
      "cell_type": "code",
      "metadata": {
        "id": "stZdi-CJqLxa"
      },
      "source": [
        "import jovian"
      ],
      "execution_count": 45,
      "outputs": []
    },
    {
      "cell_type": "code",
      "metadata": {
        "colab": {
          "base_uri": "https://localhost:8080/",
          "height": 102
        },
        "id": "j2YzUYisqLxb",
        "outputId": "e7dd5473-0b7d-4528-f772-ec71ac8d9c46"
      },
      "source": [
        "jovian.commit()"
      ],
      "execution_count": 46,
      "outputs": [
        {
          "output_type": "stream",
          "text": [
            "[jovian] Detected Colab notebook...\u001b[0m\n",
            "[jovian] Uploading colab notebook to Jovian...\u001b[0m\n",
            "[jovian] Capturing environment..\u001b[0m\n",
            "[jovian] Committed successfully! https://jovian.ai/thechandramohan01/air-quality-data-in-india\u001b[0m\n"
          ],
          "name": "stdout"
        },
        {
          "output_type": "execute_result",
          "data": {
            "application/vnd.google.colaboratory.intrinsic+json": {
              "type": "string"
            },
            "text/plain": [
              "'https://jovian.ai/thechandramohan01/air-quality-data-in-india'"
            ]
          },
          "metadata": {
            "tags": []
          },
          "execution_count": 46
        }
      ]
    },
    {
      "cell_type": "markdown",
      "metadata": {
        "id": "x5zpOefOqLxe"
      },
      "source": [
        "## Inferences and Conclusion\n",
        "\n",
        "**From the above analysis we can conclude that the airpollution has been drastically reduced this year (2020). Ahmehadabad was the highly air polluted city. Shilling was the least polluted.**"
      ]
    },
    {
      "cell_type": "code",
      "metadata": {
        "id": "hAksyFOoqLxf"
      },
      "source": [
        "import jovian"
      ],
      "execution_count": 47,
      "outputs": []
    },
    {
      "cell_type": "code",
      "metadata": {
        "colab": {
          "base_uri": "https://localhost:8080/",
          "height": 102
        },
        "id": "GZpg1NPDqLxf",
        "outputId": "90783e47-36a4-4e73-d2cf-a72089a28d05"
      },
      "source": [
        "jovian.commit()"
      ],
      "execution_count": 48,
      "outputs": [
        {
          "output_type": "stream",
          "text": [
            "[jovian] Detected Colab notebook...\u001b[0m\n",
            "[jovian] Uploading colab notebook to Jovian...\u001b[0m\n",
            "[jovian] Capturing environment..\u001b[0m\n",
            "[jovian] Committed successfully! https://jovian.ai/thechandramohan01/air-quality-data-in-india\u001b[0m\n"
          ],
          "name": "stdout"
        },
        {
          "output_type": "execute_result",
          "data": {
            "application/vnd.google.colaboratory.intrinsic+json": {
              "type": "string"
            },
            "text/plain": [
              "'https://jovian.ai/thechandramohan01/air-quality-data-in-india'"
            ]
          },
          "metadata": {
            "tags": []
          },
          "execution_count": 48
        }
      ]
    },
    {
      "cell_type": "markdown",
      "metadata": {
        "id": "WDArqkV0qLxf"
      },
      "source": [
        "## References and Future Work\n",
        "\n",
        "#### References:\n",
        "     Numpy: https://numpy.org/\n",
        " \n",
        "     Pandas: https://pandas.pydata.org/\n",
        "\n",
        "     Matplotlib :https://matplotlib.org/\n",
        "\n",
        "     Seaborn : https://seaborn.pydata.org/\n",
        "\n",
        "     stackoverflow references: https://stackoverflow.com/questions/25478528/updating-value-in-iterrow-for-pandas\n",
        "\n",
        "Future Work:\n",
        "Here we have analysed only one city (Bengaluru). We can analyse for many cities and know how the cities have been polluted from years ."
      ]
    },
    {
      "cell_type": "code",
      "metadata": {
        "id": "qOSocARAqLxg"
      },
      "source": [
        "import jovian"
      ],
      "execution_count": 49,
      "outputs": []
    },
    {
      "cell_type": "code",
      "metadata": {
        "scrolled": true,
        "colab": {
          "base_uri": "https://localhost:8080/",
          "height": 102
        },
        "id": "oYZGXKFCqLxg",
        "outputId": "1dca7092-5370-4c65-a414-3307ac9806c2"
      },
      "source": [
        "jovian.commit()"
      ],
      "execution_count": 50,
      "outputs": [
        {
          "output_type": "stream",
          "text": [
            "[jovian] Detected Colab notebook...\u001b[0m\n",
            "[jovian] Uploading colab notebook to Jovian...\u001b[0m\n",
            "[jovian] Capturing environment..\u001b[0m\n",
            "[jovian] Committed successfully! https://jovian.ai/thechandramohan01/air-quality-data-in-india\u001b[0m\n"
          ],
          "name": "stdout"
        },
        {
          "output_type": "execute_result",
          "data": {
            "application/vnd.google.colaboratory.intrinsic+json": {
              "type": "string"
            },
            "text/plain": [
              "'https://jovian.ai/thechandramohan01/air-quality-data-in-india'"
            ]
          },
          "metadata": {
            "tags": []
          },
          "execution_count": 50
        }
      ]
    },
    {
      "cell_type": "code",
      "metadata": {
        "id": "QYPVaj5kqLxg"
      },
      "source": [
        ""
      ],
      "execution_count": null,
      "outputs": []
    }
  ]
}